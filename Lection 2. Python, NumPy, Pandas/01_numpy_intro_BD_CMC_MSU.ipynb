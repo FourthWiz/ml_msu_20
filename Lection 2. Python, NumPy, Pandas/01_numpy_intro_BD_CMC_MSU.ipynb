{
  "nbformat": 4,
  "nbformat_minor": 0,
  "metadata": {
    "colab": {
      "name": "BD_CMC_MSU_numpy.ipynb",
      "provenance": [],
      "collapsed_sections": []
    },
    "kernelspec": {
      "name": "python3",
      "display_name": "Python 3"
    }
  },
  "cells": [
    {
      "cell_type": "markdown",
      "metadata": {
        "id": "2c6U-XQ2iqWK"
      },
      "source": [
        "В машинном обучении повсеместно встречаются операции с векторами и матрицами. Для оптимизации работы с ними (путём обращения к коду на С и соотвествующему формату хранения данных) была написана библиотека numpy."
      ]
    },
    {
      "cell_type": "code",
      "metadata": {
        "id": "twwUfC5AiJtz"
      },
      "source": [
        "import numpy as np"
      ],
      "execution_count": null,
      "outputs": []
    },
    {
      "cell_type": "code",
      "metadata": {
        "id": "g1BZ89hEipPQ",
        "outputId": "08318fdf-9c51-4ee1-ce4d-af55a2275a4f",
        "colab": {
          "base_uri": "https://localhost:8080/",
          "height": 34
        }
      },
      "source": [
        "#Давайте для начала вспомним как мы создавали массивы (списки) стандартными методами:\n",
        "x = [1, 2, 3, 4, 5]\n",
        "print(x)"
      ],
      "execution_count": null,
      "outputs": [
        {
          "output_type": "stream",
          "text": [
            "[1, 2, 3, 4, 5]\n"
          ],
          "name": "stdout"
        }
      ]
    },
    {
      "cell_type": "code",
      "metadata": {
        "id": "1xefUeM0jRS6",
        "outputId": "7a799e9f-eb50-4461-cadf-88c28f85e8d0",
        "colab": {
          "base_uri": "https://localhost:8080/",
          "height": 34
        }
      },
      "source": [
        "#Преобразуем его в numpy.array:\n",
        "x_np = np.array(x)\n",
        "print(type(x_np))"
      ],
      "execution_count": null,
      "outputs": [
        {
          "output_type": "stream",
          "text": [
            "<class 'numpy.ndarray'>\n"
          ],
          "name": "stdout"
        }
      ]
    },
    {
      "cell_type": "code",
      "metadata": {
        "id": "F8U9WC7WJ3CG",
        "outputId": "f7988e56-54c4-4b83-e7da-e3f16109a86d",
        "colab": {
          "base_uri": "https://localhost:8080/",
          "height": 34
        }
      },
      "source": [
        "x_np"
      ],
      "execution_count": null,
      "outputs": [
        {
          "output_type": "execute_result",
          "data": {
            "text/plain": [
              "array([1, 2, 3, 4, 5])"
            ]
          },
          "metadata": {
            "tags": []
          },
          "execution_count": 15
        }
      ]
    },
    {
      "cell_type": "code",
      "metadata": {
        "id": "ePm-7Fp5jcqG",
        "outputId": "17a0f9bb-27e9-4646-d206-84ce1ab5ac8f",
        "colab": {
          "base_uri": "https://localhost:8080/",
          "height": 34
        }
      },
      "source": [
        "x_np / 10"
      ],
      "execution_count": null,
      "outputs": [
        {
          "output_type": "execute_result",
          "data": {
            "text/plain": [
              "array([0.1, 0.2, 0.3, 0.4, 0.5])"
            ]
          },
          "metadata": {
            "tags": []
          },
          "execution_count": 16
        }
      ]
    },
    {
      "cell_type": "code",
      "metadata": {
        "id": "rMD3lm20jfq3",
        "outputId": "e30e2f07-4c79-44b1-9d2c-26a2faa94e67",
        "colab": {
          "base_uri": "https://localhost:8080/",
          "height": 34
        }
      },
      "source": [
        "x_np + 10"
      ],
      "execution_count": null,
      "outputs": [
        {
          "output_type": "execute_result",
          "data": {
            "text/plain": [
              "array([11, 12, 13, 14, 15])"
            ]
          },
          "metadata": {
            "tags": []
          },
          "execution_count": 17
        }
      ]
    },
    {
      "cell_type": "code",
      "metadata": {
        "id": "5SmFphGpjjyY",
        "outputId": "04f82bd9-f12c-4863-a5a7-3e300b4bf005",
        "colab": {
          "base_uri": "https://localhost:8080/",
          "height": 34
        }
      },
      "source": [
        "x_np.mean()"
      ],
      "execution_count": null,
      "outputs": [
        {
          "output_type": "execute_result",
          "data": {
            "text/plain": [
              "3.0"
            ]
          },
          "metadata": {
            "tags": []
          },
          "execution_count": 18
        }
      ]
    },
    {
      "cell_type": "code",
      "metadata": {
        "id": "A6F7x5B8jl26",
        "outputId": "5f8b473a-3360-4ce6-992d-5182c223e3e8",
        "colab": {
          "base_uri": "https://localhost:8080/",
          "height": 34
        }
      },
      "source": [
        "x_np.max()"
      ],
      "execution_count": null,
      "outputs": [
        {
          "output_type": "execute_result",
          "data": {
            "text/plain": [
              "5"
            ]
          },
          "metadata": {
            "tags": []
          },
          "execution_count": 19
        }
      ]
    },
    {
      "cell_type": "code",
      "metadata": {
        "id": "oU5M4ZONjtJs",
        "outputId": "14a9030b-4a39-4b6e-bbe2-1d35b15b1076",
        "colab": {
          "base_uri": "https://localhost:8080/",
          "height": 54
        }
      },
      "source": [
        "print(dir(x_np))"
      ],
      "execution_count": null,
      "outputs": [
        {
          "output_type": "stream",
          "text": [
            "['T', '__abs__', '__add__', '__and__', '__array__', '__array_finalize__', '__array_function__', '__array_interface__', '__array_prepare__', '__array_priority__', '__array_struct__', '__array_ufunc__', '__array_wrap__', '__bool__', '__class__', '__complex__', '__contains__', '__copy__', '__deepcopy__', '__delattr__', '__delitem__', '__dir__', '__divmod__', '__doc__', '__eq__', '__float__', '__floordiv__', '__format__', '__ge__', '__getattribute__', '__getitem__', '__gt__', '__hash__', '__iadd__', '__iand__', '__ifloordiv__', '__ilshift__', '__imatmul__', '__imod__', '__imul__', '__index__', '__init__', '__init_subclass__', '__int__', '__invert__', '__ior__', '__ipow__', '__irshift__', '__isub__', '__iter__', '__itruediv__', '__ixor__', '__le__', '__len__', '__lshift__', '__lt__', '__matmul__', '__mod__', '__mul__', '__ne__', '__neg__', '__new__', '__or__', '__pos__', '__pow__', '__radd__', '__rand__', '__rdivmod__', '__reduce__', '__reduce_ex__', '__repr__', '__rfloordiv__', '__rlshift__', '__rmatmul__', '__rmod__', '__rmul__', '__ror__', '__rpow__', '__rrshift__', '__rshift__', '__rsub__', '__rtruediv__', '__rxor__', '__setattr__', '__setitem__', '__setstate__', '__sizeof__', '__str__', '__sub__', '__subclasshook__', '__truediv__', '__xor__', 'all', 'any', 'argmax', 'argmin', 'argpartition', 'argsort', 'astype', 'base', 'byteswap', 'choose', 'clip', 'compress', 'conj', 'conjugate', 'copy', 'ctypes', 'cumprod', 'cumsum', 'data', 'diagonal', 'dot', 'dtype', 'dump', 'dumps', 'fill', 'flags', 'flat', 'flatten', 'getfield', 'imag', 'item', 'itemset', 'itemsize', 'max', 'mean', 'min', 'nbytes', 'ndim', 'newbyteorder', 'nonzero', 'partition', 'prod', 'ptp', 'put', 'ravel', 'real', 'repeat', 'reshape', 'resize', 'round', 'searchsorted', 'setfield', 'setflags', 'shape', 'size', 'sort', 'squeeze', 'std', 'strides', 'sum', 'swapaxes', 'take', 'tobytes', 'tofile', 'tolist', 'tostring', 'trace', 'transpose', 'var', 'view']\n"
          ],
          "name": "stdout"
        }
      ]
    },
    {
      "cell_type": "code",
      "metadata": {
        "id": "v-PuO9TNkMIu",
        "outputId": "86bc41d1-78d1-4d71-c36d-aef6def93fa4",
        "colab": {
          "base_uri": "https://localhost:8080/",
          "height": 162
        }
      },
      "source": [
        "x ** 30"
      ],
      "execution_count": null,
      "outputs": [
        {
          "output_type": "error",
          "ename": "TypeError",
          "evalue": "ignored",
          "traceback": [
            "\u001b[0;31m---------------------------------------------------------------------------\u001b[0m",
            "\u001b[0;31mTypeError\u001b[0m                                 Traceback (most recent call last)",
            "\u001b[0;32m<ipython-input-21-a1c45871f919>\u001b[0m in \u001b[0;36m<module>\u001b[0;34m()\u001b[0m\n\u001b[0;32m----> 1\u001b[0;31m \u001b[0mx\u001b[0m \u001b[0;34m**\u001b[0m \u001b[0;36m30\u001b[0m\u001b[0;34m\u001b[0m\u001b[0;34m\u001b[0m\u001b[0m\n\u001b[0m",
            "\u001b[0;31mTypeError\u001b[0m: unsupported operand type(s) for ** or pow(): 'list' and 'int'"
          ]
        }
      ]
    },
    {
      "cell_type": "code",
      "metadata": {
        "id": "sORvk3iTj2wT",
        "outputId": "8d2fb703-3bdd-4505-9896-e63457d86227",
        "colab": {
          "base_uri": "https://localhost:8080/",
          "height": 50
        }
      },
      "source": [
        "x_np ** 30"
      ],
      "execution_count": null,
      "outputs": [
        {
          "output_type": "execute_result",
          "data": {
            "text/plain": [
              "array([                  1,          1073741824,     205891132094649,\n",
              "       1152921504606846976, 8985370930000934825])"
            ]
          },
          "metadata": {
            "tags": []
          },
          "execution_count": 22
        }
      ]
    },
    {
      "cell_type": "markdown",
      "metadata": {
        "id": "dDiwtnu6ltZH"
      },
      "source": [
        "В numpy есть много функций, которые аналогичны функциям list"
      ]
    },
    {
      "cell_type": "code",
      "metadata": {
        "id": "eY9xD729lsap",
        "outputId": "3d42e296-80b5-447d-83a0-e4bf4dd0c41d",
        "colab": {
          "base_uri": "https://localhost:8080/",
          "height": 34
        }
      },
      "source": [
        "np.arange(1, 10)"
      ],
      "execution_count": null,
      "outputs": [
        {
          "output_type": "execute_result",
          "data": {
            "text/plain": [
              "array([1, 2, 3, 4, 5, 6, 7, 8, 9])"
            ]
          },
          "metadata": {
            "tags": []
          },
          "execution_count": 23
        }
      ]
    },
    {
      "cell_type": "code",
      "metadata": {
        "id": "sntjtH-Kl97m",
        "outputId": "f237a37a-b3ef-47f1-b111-c6b04840d12a",
        "colab": {
          "base_uri": "https://localhost:8080/",
          "height": 101
        }
      },
      "source": [
        "%time np.arange(1, 5000000)\n",
        "%time list(range(1, 5000000))\n",
        "\n",
        "print(1)"
      ],
      "execution_count": null,
      "outputs": [
        {
          "output_type": "stream",
          "text": [
            "CPU times: user 9.94 ms, sys: 7.3 ms, total: 17.2 ms\n",
            "Wall time: 24.6 ms\n",
            "CPU times: user 81.7 ms, sys: 59.4 ms, total: 141 ms\n",
            "Wall time: 141 ms\n",
            "1\n"
          ],
          "name": "stdout"
        }
      ]
    },
    {
      "cell_type": "code",
      "metadata": {
        "id": "YVZ0HDQ_nSMn",
        "outputId": "fe47cb71-8de6-44d9-a036-4600dbbde81f",
        "colab": {
          "base_uri": "https://localhost:8080/",
          "height": 1000
        }
      },
      "source": [
        "# По numpy есть хорошая справка:\n",
        "np.lookfor('create array')"
      ],
      "execution_count": null,
      "outputs": [
        {
          "output_type": "stream",
          "text": [
            "Search results for 'create array'\n",
            "---------------------------------\n",
            "numpy.array\n",
            "    Create an array.\n",
            "numpy.memmap\n",
            "    Create a memory-map to an array stored in a *binary* file on disk.\n",
            "numpy.diagflat\n",
            "    Create a two-dimensional array with the flattened input as a diagonal.\n",
            "numpy.fromiter\n",
            "    Create a new 1-dimensional array from an iterable object.\n",
            "numpy.partition\n",
            "    Return a partitioned copy of an array.\n",
            "numpy.ctypeslib.as_array\n",
            "    Create a numpy array from a ctypes array or POINTER.\n",
            "numpy.ma.diagflat\n",
            "    Create a two-dimensional array with the flattened input as a diagonal.\n",
            "numpy.ma.make_mask\n",
            "    Create a boolean mask from an array.\n",
            "numpy.lib.Arrayterator\n",
            "    Buffered iterator for big arrays.\n",
            "numpy.ctypeslib.as_ctypes\n",
            "    Create and return a ctypes object from a numpy array.  Actually\n",
            "numpy.ma.mrecords.fromarrays\n",
            "    Creates a mrecarray from a (flat) list of masked arrays.\n",
            "numpy.ma.mvoid.__new__\n",
            "    Create a new masked array from scratch.\n",
            "numpy.ma.MaskedArray.__new__\n",
            "    Create a new masked array from scratch.\n",
            "numpy.ma.mrecords.fromtextfile\n",
            "    Creates a mrecarray from data stored in the file `filename`.\n",
            "numpy.asarray\n",
            "    Convert the input to an array.\n",
            "numpy.ndarray\n",
            "    ndarray(shape, dtype=float, buffer=None, offset=0,\n",
            "numpy.recarray\n",
            "    Construct an ndarray that allows field access using attributes.\n",
            "numpy.chararray\n",
            "    chararray(shape, itemsize=1, unicode=False, buffer=None, offset=0,\n",
            "numpy.exp\n",
            "    Calculate the exponential of all elements in the input array.\n",
            "numpy.pad\n",
            "    Pad an array.\n",
            "numpy.asanyarray\n",
            "    Convert the input to an ndarray, but pass ndarray subclasses through.\n",
            "numpy.cbrt\n",
            "    Return the cube-root of an array, element-wise.\n",
            "numpy.copy\n",
            "    Return an array copy of the given object.\n",
            "numpy.diag\n",
            "    Extract a diagonal or construct a diagonal array.\n",
            "numpy.exp2\n",
            "    Calculate `2**p` for all `p` in the input array.\n",
            "numpy.fmax\n",
            "    Element-wise maximum of array elements.\n",
            "numpy.fmin\n",
            "    Element-wise minimum of array elements.\n",
            "numpy.load\n",
            "    Load arrays or pickled objects from ``.npy``, ``.npz`` or pickled files.\n",
            "numpy.modf\n",
            "    Return the fractional and integral parts of an array, element-wise.\n",
            "numpy.rint\n",
            "    Round elements of the array to the nearest integer.\n",
            "numpy.sort\n",
            "    Return a sorted copy of an array.\n",
            "numpy.sqrt\n",
            "    Return the non-negative square-root of an array, element-wise.\n",
            "numpy.array_equiv\n",
            "    Returns True if input arrays are shape consistent and all elements equal.\n",
            "numpy.dtype\n",
            "    Create a data type object.\n",
            "numpy.expm1\n",
            "    Calculate ``exp(x) - 1`` for all elements in the array.\n",
            "numpy.isnan\n",
            "    Test element-wise for NaN and return result as a boolean array.\n",
            "numpy.isnat\n",
            "    Test element-wise for NaT (not a time) and return result as a boolean array.\n",
            "numpy.log10\n",
            "    Return the base 10 logarithm of the input array, element-wise.\n",
            "numpy.log1p\n",
            "    Return the natural logarithm of one plus the input array, element-wise.\n",
            "numpy.power\n",
            "    First array elements raised to powers from second array, element-wise.\n",
            "numpy.ufunc\n",
            "    Functions that operate element by element on whole arrays.\n",
            "numpy.choose\n",
            "    Construct an array from an index array and a set of arrays to choose from.\n",
            "numpy.nditer\n",
            "    Efficient multi-dimensional iterator object to iterate over arrays.\n",
            "numpy.maximum\n",
            "    Element-wise maximum of array elements.\n",
            "numpy.minimum\n",
            "    Element-wise minimum of array elements.\n",
            "numpy.swapaxes\n",
            "    Interchange two axes of an array.\n",
            "numpy.full_like\n",
            "    Return a full array with the same shape and type as a given array.\n",
            "numpy.ones_like\n",
            "    Return an array of ones with the same shape and type as a given array.\n",
            "numpy.bitwise_or\n",
            "    Compute the bit-wise OR of two arrays element-wise.\n",
            "numpy.empty_like\n",
            "    Return a new array with the same shape and type as a given array.\n",
            "numpy.zeros_like\n",
            "    Return an array of zeros with the same shape and type as a given array.\n",
            "numpy.asarray_chkfinite\n",
            "    Convert the input to an array, checking for NaNs or Infs.\n",
            "numpy.bitwise_and\n",
            "    Compute the bit-wise AND of two arrays element-wise.\n",
            "numpy.bitwise_xor\n",
            "    Compute the bit-wise XOR of two arrays element-wise.\n",
            "numpy.float_power\n",
            "    First array elements raised to powers from second array, element-wise.\n",
            "numpy.ma.exp\n",
            "    Calculate the exponential of all elements in the input array.\n",
            "numpy.diag_indices\n",
            "    Return the indices to access the main diagonal of an array.\n",
            "numpy.nested_iters\n",
            "    Create nditers for use in nested loops\n",
            "numpy.ma.sqrt\n",
            "    Return the non-negative square-root of an array, element-wise.\n",
            "numpy.ma.log10\n",
            "    Return the base 10 logarithm of the input array, element-wise.\n",
            "numpy.chararray.tolist\n",
            "    a.tolist()\n",
            "numpy.put_along_axis\n",
            "    Put values into the destination array by matching 1d index and data slices.\n",
            "numpy.ma.choose\n",
            "    Use an index array to construct a new array from a set of choices.\n",
            "numpy.ma.maximum\n",
            "    Element-wise maximum of array elements.\n",
            "numpy.ma.minimum\n",
            "    Element-wise minimum of array elements.\n",
            "numpy.ma.mrecords.MaskedRecords.__new__\n",
            "    Create a new masked array from scratch.\n",
            "numpy.savez_compressed\n",
            "    Save several arrays into a single file in compressed ``.npz`` format.\n",
            "numpy.matlib.rand\n",
            "    Return a matrix of random values with given shape.\n",
            "numpy.datetime_as_string\n",
            "    Convert an array of datetimes into an array of strings.\n",
            "numpy.ma.bitwise_or\n",
            "    Compute the bit-wise OR of two arrays element-wise.\n",
            "numpy.ma.bitwise_and\n",
            "    Compute the bit-wise AND of two arrays element-wise.\n",
            "numpy.ma.bitwise_xor\n",
            "    Compute the bit-wise XOR of two arrays element-wise.\n",
            "numpy.ma.make_mask_none\n",
            "    Return a boolean mask of the given shape, filled with False.\n",
            "numpy.ma.tests.test_subclassing.MSubArray.__new__\n",
            "    Create a new masked array from scratch.\n",
            "numpy.core._multiarray_umath.clip\n",
            "    Clip (limit) the values in an array.\n",
            "numpy.core.tests.test_overrides._new_duck_type_and_implements\n",
            "    Create a duck array type and implements functions.\n",
            "numpy.ma.tests.test_subclassing.SubMaskedArray.__new__\n",
            "    Create a new masked array from scratch.\n",
            "numpy.ma.mrecords.fromrecords\n",
            "    Creates a MaskedRecords from a list of records.\n",
            "numpy.core._multiarray_umath.empty_like\n",
            "    Return a new array with the same shape and type as a given array.\n",
            "numpy.f2py.tests.test_array_from_pyobj.Array.has_shared_memory\n",
            "    Check that created array shares data with input array.\n",
            "numpy.core._dtype._construction_repr\n",
            "    Creates a string repr of the dtype, excluding the 'dtype()' part\n",
            "numpy.abs\n",
            "    Calculate the absolute value element-wise.\n",
            "numpy.add\n",
            "    Add arguments element-wise.\n",
            "numpy.cos\n",
            "    Cosine element-wise.\n",
            "numpy.log\n",
            "    Natural logarithm, element-wise.\n",
            "numpy.mod\n",
            "    Return element-wise remainder of division.\n",
            "numpy.lib.recfunctions.require_fields\n",
            "    Casts a structured array to a new dtype using assignment by field-name.\n",
            "numpy.sin\n",
            "    Trigonometric sine, element-wise.\n",
            "numpy.tan\n",
            "    Compute tangent element-wise.\n",
            "numpy.ceil\n",
            "    Return the ceiling of the input, element-wise.\n",
            "numpy.conj\n",
            "    Return the complex conjugate, element-wise.\n",
            "numpy.cosh\n",
            "    Hyperbolic cosine, element-wise.\n",
            "numpy.fabs\n",
            "    Compute the absolute values element-wise.\n",
            "numpy.fmod\n",
            "    Return the element-wise remainder of division.\n",
            "numpy.less\n",
            "    Return the truth value of (x1 < x2) element-wise.\n",
            "numpy.log2\n",
            "    Base-2 logarithm of `x`.\n",
            "numpy.sign\n",
            "    Returns an element-wise indication of the sign of a number.\n",
            "numpy.sinh\n",
            "    Hyperbolic sine, element-wise.\n",
            "numpy.tanh\n",
            "    Compute hyperbolic tangent element-wise.\n",
            "numpy.equal\n",
            "    Return (x1 == x2) element-wise.\n",
            "numpy.core._multiarray_umath.datetime_as_string\n",
            "    Convert an array of datetimes into an array of strings.\n",
            "numpy.floor\n",
            "    Return the floor of the input, element-wise.\n",
            "numpy.frexp\n",
            "    Decompose the elements of x into mantissa and twos exponent.\n",
            "numpy.hypot\n",
            "    Given the \"legs\" of a right triangle, return its hypotenuse.\n",
            "numpy.isinf\n",
            "    Test element-wise for positive or negative infinity.\n",
            "numpy.ldexp\n",
            "    Returns x1 * 2**x2, element-wise.\n",
            "numpy.trunc\n",
            "    Return the truncated value of the input, element-wise.\n",
            "numpy.arccos\n",
            "    Trigonometric inverse cosine, element-wise.\n",
            "numpy.arcsin\n",
            "    Inverse sine, element-wise.\n",
            "numpy.arctan\n",
            "    Trigonometric inverse tangent, element-wise.\n",
            "numpy.around\n",
            "    Evenly round to the given number of decimals.\n",
            "numpy.divide\n",
            "    Returns a true division of the inputs, element-wise.\n",
            "numpy.divmod\n",
            "    Return element-wise quotient and remainder simultaneously.\n",
            "numpy.source\n",
            "    Print or write to a file the source code for a NumPy object.\n",
            "numpy.square\n",
            "    Return the element-wise square of the input.\n",
            "numpy.arccosh\n",
            "    Inverse hyperbolic cosine, element-wise.\n",
            "numpy.arcsinh\n",
            "    Inverse hyperbolic sine element-wise.\n",
            "numpy.arctan2\n",
            "    Element-wise arc tangent of ``x1/x2`` choosing the quadrant correctly.\n",
            "numpy.arctanh\n",
            "    Inverse hyperbolic tangent element-wise.\n",
            "numpy.deg2rad\n",
            "    Convert angles from degrees to radians.\n",
            "numpy.degrees\n",
            "    Convert angles from radians to degrees.\n",
            "numpy.greater\n",
            "    Return the truth value of (x1 > x2) element-wise.\n",
            "numpy.rad2deg\n",
            "    Convert angles from radians to degrees.\n",
            "numpy.radians\n",
            "    Convert angles from degrees to radians.\n",
            "numpy.signbit\n",
            "    Returns element-wise True where signbit is set (less than zero).\n",
            "numpy.spacing\n",
            "    Return the distance between x and the nearest adjacent number.\n",
            "numpy.copysign\n",
            "    Change the sign of x1 to that of x2, element-wise.\n",
            "numpy.diagonal\n",
            "    Return specified diagonals.\n",
            "numpy.isfinite\n",
            "    Test element-wise for finiteness (not infinity or not Not a Number).\n",
            "numpy.multiply\n",
            "    Multiply arguments element-wise.\n",
            "numpy.negative\n",
            "    Numerical negative, element-wise.\n",
            "numpy.subtract\n",
            "    Subtract arguments, element-wise.\n",
            "numpy.heaviside\n",
            "    Compute the Heaviside step function.\n",
            "numpy.logaddexp\n",
            "    Logarithm of the sum of exponentiations of the inputs.\n",
            "numpy.nextafter\n",
            "    Return the next floating-point value after x1 towards x2, element-wise.\n",
            "numpy.not_equal\n",
            "    Return (x1 != x2) element-wise.\n",
            "numpy.left_shift\n",
            "    Shift the bits of an integer to the left.\n",
            "numpy.less_equal\n",
            "    Return the truth value of (x1 =< x2) element-wise.\n",
            "numpy.logaddexp2\n",
            "    Logarithm of the sum of exponentiations of the inputs in base-2.\n",
            "numpy.logical_or\n",
            "    Compute the truth value of x1 OR x2 element-wise.\n",
            "numpy.nan_to_num\n",
            "    Replace NaN with zero and infinity with large finite numbers (default\n",
            "numpy.reciprocal\n",
            "    Return the reciprocal of the argument, element-wise.\n",
            "numpy.bitwise_not\n",
            "    Compute bit-wise inversion, or bit-wise NOT, element-wise.\n",
            "numpy.einsum_path\n",
            "    Evaluates the lowest cost contraction order for an einsum expression by\n",
            "numpy.histogram2d\n",
            "    Compute the bi-dimensional histogram of two data samples.\n",
            "numpy.logical_and\n",
            "    Compute the truth value of x1 AND x2 element-wise.\n",
            "numpy.logical_not\n",
            "    Compute the truth value of NOT x element-wise.\n",
            "numpy.logical_xor\n",
            "    Compute the truth value of x1 XOR x2, element-wise.\n",
            "numpy.right_shift\n",
            "    Shift the bits of an integer to the right.\n",
            "numpy.ma.abs\n",
            "    Calculate the absolute value element-wise.\n",
            "numpy.ma.add\n",
            "    Add arguments element-wise.\n",
            "numpy.ma.cos\n",
            "    Cosine element-wise.\n",
            "numpy.ma.log\n",
            "    Natural logarithm, element-wise.\n",
            "numpy.ma.mod\n",
            "    Return element-wise remainder of division.\n",
            "numpy.ma.sin\n",
            "    Trigonometric sine, element-wise.\n",
            "numpy.ma.tan\n",
            "    Compute tangent element-wise.\n",
            "numpy.floor_divide\n",
            "    Return the largest integer smaller or equal to the division of the inputs.\n",
            "numpy.ma.ceil\n",
            "    Return the ceiling of the input, element-wise.\n",
            "numpy.ma.cosh\n",
            "    Hyperbolic cosine, element-wise.\n",
            "numpy.fft.ifft\n",
            "    Compute the one-dimensional inverse discrete Fourier Transform.\n",
            "numpy.ma.fabs\n",
            "    Compute the absolute values element-wise.\n",
            "numpy.ma.fmod\n",
            "    Return the element-wise remainder of division.\n",
            "numpy.ma.less\n",
            "    Return the truth value of (x1 < x2) element-wise.\n",
            "numpy.ma.log2\n",
            "    Base-2 logarithm of `x`.\n",
            "numpy.ma.sinh\n",
            "    Hyperbolic sine, element-wise.\n",
            "numpy.ma.tanh\n",
            "    Compute hyperbolic tangent element-wise.\n",
            "numpy.greater_equal\n",
            "    Return the truth value of (x1 >= x2) element-wise.\n",
            "numpy.fft.ifftn\n",
            "    Compute the N-dimensional inverse discrete Fourier Transform.\n",
            "numpy.ma.equal\n",
            "    Return (x1 == x2) element-wise.\n",
            "numpy.ma.floor\n",
            "    Return the floor of the input, element-wise.\n",
            "numpy.ma.hypot\n",
            "    Given the \"legs\" of a right triangle, return its hypotenuse.\n",
            "numpy.busdaycalendar\n",
            "    A business day calendar object that efficiently stores information\n",
            "numpy.ma.arccos\n",
            "    Trigonometric inverse cosine, element-wise.\n",
            "numpy.ma.arcsin\n",
            "    Inverse sine, element-wise.\n",
            "numpy.ma.arctan\n",
            "    Trigonometric inverse tangent, element-wise.\n",
            "numpy.ma.divide\n",
            "    Returns a true division of the inputs, element-wise.\n",
            "numpy.lib.recfunctions.unstructured_to_structured\n",
            "    Converts and n-D unstructured array into an (n-1)-D structured array.\n",
            "numpy.ma.arccosh\n",
            "    Inverse hyperbolic cosine, element-wise.\n",
            "numpy.ma.arcsinh\n",
            "    Inverse hyperbolic sine element-wise.\n",
            "numpy.ma.arctan2\n",
            "    Element-wise arc tangent of ``x1/x2`` choosing the quadrant correctly.\n",
            "numpy.ma.arctanh\n",
            "    Inverse hyperbolic tangent element-wise.\n",
            "numpy.ma.greater\n",
            "    Return the truth value of (x1 > x2) element-wise.\n",
            "numpy.ma.multiply\n",
            "    Multiply arguments element-wise.\n",
            "numpy.ma.negative\n",
            "    Numerical negative, element-wise.\n",
            "numpy.ma.subtract\n",
            "    Subtract arguments, element-wise.\n",
            "numpy.ma.tests.test_subclassing.SubArray\n",
            "    ndarray(shape, dtype=float, buffer=None, offset=0,\n",
            "numpy.ma.conjugate\n",
            "    Return the complex conjugate, element-wise.\n",
            "numpy.ma.not_equal\n",
            "    Return (x1 != x2) element-wise.\n",
            "numpy.ma.remainder\n",
            "    Return element-wise remainder of division.\n",
            "numpy.ma.empty_like\n",
            "    empty_like(prototype, dtype=None, order='K', subok=True, shape=None)\n",
            "numpy.ma.less_equal\n",
            "    Return the truth value of (x1 =< x2) element-wise.\n",
            "numpy.ma.logical_or\n",
            "    Compute the truth value of x1 OR x2 element-wise.\n",
            "numpy.ma.logical_and\n",
            "    Compute the truth value of x1 AND x2 element-wise.\n",
            "numpy.ma.logical_not\n",
            "    Compute the truth value of NOT x element-wise.\n",
            "numpy.ma.logical_xor\n",
            "    Compute the truth value of x1 XOR x2, element-wise.\n",
            "numpy.ma.true_divide\n",
            "    Returns a true division of the inputs, element-wise.\n",
            "numpy.ma.floor_divide\n",
            "    Return the largest integer smaller or equal to the division of the inputs.\n",
            "numpy.ma.greater_equal\n",
            "    Return the truth value of (x1 >= x2) element-wise.\n",
            "numpy.core.tests.test_function_base.PhysicalQuantity2\n",
            "    ndarray(shape, dtype=float, buffer=None, offset=0,\n",
            "numpy.lib.tests.test_stride_tricks.SimpleSubClass\n",
            "    ndarray(shape, dtype=float, buffer=None, offset=0,\n",
            "numpy.core.tests.test_numeric.TestKeepdims.sub_array\n",
            "    ndarray(shape, dtype=float, buffer=None, offset=0,\n",
            "numpy.ma.tests.test_subclassing.ComplicatedSubArray\n",
            "    ndarray(shape, dtype=float, buffer=None, offset=0,\n",
            "numpy.lib.tests.test_stride_tricks.VerySimpleSubClass\n",
            "    ndarray(shape, dtype=float, buffer=None, offset=0,\n",
            "numpy.core.tests.test_multiarray.TestArrayPriority.Foo\n",
            "    ndarray(shape, dtype=float, buffer=None, offset=0,\n",
            "numpy.core.tests.test_multiarray.TestArrayPriority.Bar\n",
            "    ndarray(shape, dtype=float, buffer=None, offset=0,\n",
            "numpy.testing._gen_alignment_data\n",
            "    generator producing data with different alignment and offsets\n",
            "numpy.random.RandomState.rand\n",
            "    Random values in a given shape."
          ],
          "name": "stdout"
        }
      ]
    },
    {
      "cell_type": "code",
      "metadata": {
        "id": "dq-yv-UknSyK"
      },
      "source": [
        ""
      ],
      "execution_count": null,
      "outputs": []
    },
    {
      "cell_type": "markdown",
      "metadata": {
        "id": "HnrvvM6MnWHB"
      },
      "source": [
        "**Как создавать массивы**"
      ]
    },
    {
      "cell_type": "code",
      "metadata": {
        "id": "tHkLs285nZ7D",
        "outputId": "73ed6e5a-1e1d-4470-b13b-f0a2c9def49c",
        "colab": {
          "base_uri": "https://localhost:8080/",
          "height": 34
        }
      },
      "source": [
        "np.array([1,2,3,4], dtype=np.int16)"
      ],
      "execution_count": null,
      "outputs": [
        {
          "output_type": "execute_result",
          "data": {
            "text/plain": [
              "array([1, 2, 3, 4], dtype=int16)"
            ]
          },
          "metadata": {
            "tags": []
          },
          "execution_count": 24
        }
      ]
    },
    {
      "cell_type": "code",
      "metadata": {
        "id": "UqzmmqAsndQ_",
        "outputId": "dc9508c0-d51a-4666-cd50-47f7c05d98d4",
        "colab": {
          "base_uri": "https://localhost:8080/",
          "height": 34
        }
      },
      "source": [
        "np.arange(1,10,2)"
      ],
      "execution_count": null,
      "outputs": [
        {
          "output_type": "execute_result",
          "data": {
            "text/plain": [
              "array([1, 3, 5, 7, 9])"
            ]
          },
          "metadata": {
            "tags": []
          },
          "execution_count": 25
        }
      ]
    },
    {
      "cell_type": "code",
      "metadata": {
        "id": "N-gregk_ngSI",
        "outputId": "1d2c9a91-e928-40d8-ea5c-84b17793c9b8",
        "colab": {
          "base_uri": "https://localhost:8080/",
          "height": 101
        }
      },
      "source": [
        "np.linspace(0, 1, 25)"
      ],
      "execution_count": null,
      "outputs": [
        {
          "output_type": "execute_result",
          "data": {
            "text/plain": [
              "array([0.        , 0.04166667, 0.08333333, 0.125     , 0.16666667,\n",
              "       0.20833333, 0.25      , 0.29166667, 0.33333333, 0.375     ,\n",
              "       0.41666667, 0.45833333, 0.5       , 0.54166667, 0.58333333,\n",
              "       0.625     , 0.66666667, 0.70833333, 0.75      , 0.79166667,\n",
              "       0.83333333, 0.875     , 0.91666667, 0.95833333, 1.        ])"
            ]
          },
          "metadata": {
            "tags": []
          },
          "execution_count": 26
        }
      ]
    },
    {
      "cell_type": "code",
      "metadata": {
        "id": "CraQ_AsHnjxr",
        "outputId": "068f59bb-b7d7-466b-9f81-4ceea60b12e0",
        "colab": {
          "base_uri": "https://localhost:8080/",
          "height": 67
        }
      },
      "source": [
        "np.ones((3, 3))"
      ],
      "execution_count": null,
      "outputs": [
        {
          "output_type": "execute_result",
          "data": {
            "text/plain": [
              "array([[1., 1., 1.],\n",
              "       [1., 1., 1.],\n",
              "       [1., 1., 1.]])"
            ]
          },
          "metadata": {
            "tags": []
          },
          "execution_count": 27
        }
      ]
    },
    {
      "cell_type": "code",
      "metadata": {
        "id": "7nrX8y3Knkj6",
        "outputId": "e8c806e1-3055-4e9a-afec-6edf396fcee7",
        "colab": {
          "base_uri": "https://localhost:8080/",
          "height": 67
        }
      },
      "source": [
        "np.zeros((3, 2))"
      ],
      "execution_count": null,
      "outputs": [
        {
          "output_type": "execute_result",
          "data": {
            "text/plain": [
              "array([[0., 0.],\n",
              "       [0., 0.],\n",
              "       [0., 0.]])"
            ]
          },
          "metadata": {
            "tags": []
          },
          "execution_count": 28
        }
      ]
    },
    {
      "cell_type": "code",
      "metadata": {
        "id": "mpSg79t0nnG3",
        "outputId": "5058df4b-c170-4107-f88f-32545acc3a73",
        "colab": {
          "base_uri": "https://localhost:8080/",
          "height": 84
        }
      },
      "source": [
        "np.diag(np.array([1, 2, 3, 4]))"
      ],
      "execution_count": null,
      "outputs": [
        {
          "output_type": "execute_result",
          "data": {
            "text/plain": [
              "array([[1, 0, 0, 0],\n",
              "       [0, 2, 0, 0],\n",
              "       [0, 0, 3, 0],\n",
              "       [0, 0, 0, 4]])"
            ]
          },
          "metadata": {
            "tags": []
          },
          "execution_count": 29
        }
      ]
    },
    {
      "cell_type": "code",
      "metadata": {
        "id": "LkdbH3Ycnokz",
        "outputId": "398bdace-8417-4457-93b8-e45c2bbcca00",
        "colab": {
          "base_uri": "https://localhost:8080/",
          "height": 34
        }
      },
      "source": [
        "x = np.diag(np.array([1, 2, 3, 4]))\n",
        "x.shape"
      ],
      "execution_count": null,
      "outputs": [
        {
          "output_type": "execute_result",
          "data": {
            "text/plain": [
              "(4, 4)"
            ]
          },
          "metadata": {
            "tags": []
          },
          "execution_count": 30
        }
      ]
    },
    {
      "cell_type": "code",
      "metadata": {
        "id": "yeTBT0uOpzH8",
        "outputId": "c728c1b7-755b-4e1a-ce34-134b7cd0a7a1",
        "colab": {
          "base_uri": "https://localhost:8080/",
          "height": 67
        }
      },
      "source": [
        "np.random.rand(3,2)"
      ],
      "execution_count": null,
      "outputs": [
        {
          "output_type": "execute_result",
          "data": {
            "text/plain": [
              "array([[0.26064384, 0.72330993],\n",
              "       [0.71341975, 0.02312941],\n",
              "       [0.2222487 , 0.57991142]])"
            ]
          },
          "metadata": {
            "tags": []
          },
          "execution_count": 31
        }
      ]
    },
    {
      "cell_type": "code",
      "metadata": {
        "id": "0eSCndczp1Kk",
        "outputId": "1c6c8466-59fe-431b-81c3-c20672f44d26",
        "colab": {
          "base_uri": "https://localhost:8080/",
          "height": 67
        }
      },
      "source": [
        "np.random.randn(3,2)"
      ],
      "execution_count": null,
      "outputs": [
        {
          "output_type": "execute_result",
          "data": {
            "text/plain": [
              "array([[ 1.25274105, -0.11941923],\n",
              "       [ 1.26366691, -1.19561446],\n",
              "       [-0.28044712, -0.01030114]])"
            ]
          },
          "metadata": {
            "tags": []
          },
          "execution_count": 32
        }
      ]
    },
    {
      "cell_type": "markdown",
      "metadata": {
        "id": "UgFdlODNolfI"
      },
      "source": [
        "**Операции над одномерными массивами**"
      ]
    },
    {
      "cell_type": "code",
      "metadata": {
        "id": "Z-MAXGt6opsF"
      },
      "source": [
        "a = np.array([1, 2, 4, 8, 16])\n",
        "b = np.array([1, 2, 3, 4, 5])"
      ],
      "execution_count": null,
      "outputs": []
    },
    {
      "cell_type": "code",
      "metadata": {
        "id": "QyWyb6sTpY67",
        "outputId": "2198bbee-6dfc-482d-97bc-b454f9972c3e",
        "colab": {
          "base_uri": "https://localhost:8080/",
          "height": 34
        }
      },
      "source": [
        "a + b"
      ],
      "execution_count": null,
      "outputs": [
        {
          "output_type": "execute_result",
          "data": {
            "text/plain": [
              "array([ 2,  4,  7, 12, 21])"
            ]
          },
          "metadata": {
            "tags": []
          },
          "execution_count": 34
        }
      ]
    },
    {
      "cell_type": "code",
      "metadata": {
        "id": "xUmX3X0Apem4",
        "outputId": "b9d2be7f-410a-4c85-bb03-c424b498ef43",
        "colab": {
          "base_uri": "https://localhost:8080/",
          "height": 34
        }
      },
      "source": [
        "a - b"
      ],
      "execution_count": null,
      "outputs": [
        {
          "output_type": "execute_result",
          "data": {
            "text/plain": [
              "array([ 0,  0,  1,  4, 11])"
            ]
          },
          "metadata": {
            "tags": []
          },
          "execution_count": 35
        }
      ]
    },
    {
      "cell_type": "code",
      "metadata": {
        "id": "lSwvAZs4pfyG",
        "outputId": "cf385999-1105-4226-b42e-e61f11b070ce",
        "colab": {
          "base_uri": "https://localhost:8080/",
          "height": 34
        }
      },
      "source": [
        "a * b"
      ],
      "execution_count": null,
      "outputs": [
        {
          "output_type": "execute_result",
          "data": {
            "text/plain": [
              "array([ 1,  4, 12, 32, 80])"
            ]
          },
          "metadata": {
            "tags": []
          },
          "execution_count": 36
        }
      ]
    },
    {
      "cell_type": "code",
      "metadata": {
        "id": "wiTyTdxfpjxo",
        "outputId": "5417be5b-9f5b-4a10-8220-79e60a16dcae",
        "colab": {
          "base_uri": "https://localhost:8080/",
          "height": 34
        }
      },
      "source": [
        "a / b"
      ],
      "execution_count": null,
      "outputs": [
        {
          "output_type": "execute_result",
          "data": {
            "text/plain": [
              "array([1.        , 1.        , 1.33333333, 2.        , 3.2       ])"
            ]
          },
          "metadata": {
            "tags": []
          },
          "execution_count": 37
        }
      ]
    },
    {
      "cell_type": "code",
      "metadata": {
        "id": "VO7OizP_poOn",
        "outputId": "aecf310f-f0fb-4510-b3d2-01793671a0ea",
        "colab": {
          "base_uri": "https://localhost:8080/",
          "height": 34
        }
      },
      "source": [
        "(a / b).round()"
      ],
      "execution_count": null,
      "outputs": [
        {
          "output_type": "execute_result",
          "data": {
            "text/plain": [
              "array([1., 1., 1., 2., 3.])"
            ]
          },
          "metadata": {
            "tags": []
          },
          "execution_count": 38
        }
      ]
    },
    {
      "cell_type": "code",
      "metadata": {
        "id": "eUye9D4zqAk3",
        "outputId": "090149a5-2e4b-41b9-f596-cc6c2433c8a8",
        "colab": {
          "base_uri": "https://localhost:8080/",
          "height": 50
        }
      },
      "source": [
        "b = np.arange(9, -1,-1)\n",
        "\n",
        "print(np.sort(b))\n",
        "print(b)"
      ],
      "execution_count": null,
      "outputs": [
        {
          "output_type": "stream",
          "text": [
            "[0 1 2 3 4 5 6 7 8 9]\n",
            "[9 8 7 6 5 4 3 2 1 0]\n"
          ],
          "name": "stdout"
        }
      ]
    },
    {
      "cell_type": "code",
      "metadata": {
        "id": "5YGtDZx7qC2r",
        "outputId": "6707f194-567d-49f3-a019-187f98bcc282",
        "colab": {
          "base_uri": "https://localhost:8080/",
          "height": 34
        }
      },
      "source": [
        "a = np.arange(10, -1, -1)\n",
        "a = np.delete(a, [5, 7])\n",
        "print(a)"
      ],
      "execution_count": null,
      "outputs": [
        {
          "output_type": "stream",
          "text": [
            "[10  9  8  7  6  4  2  1  0]\n"
          ],
          "name": "stdout"
        }
      ]
    },
    {
      "cell_type": "code",
      "metadata": {
        "id": "gKgyh8aUqLCU",
        "outputId": "d4f63abd-8211-492c-d995-880f58e57e05",
        "colab": {
          "base_uri": "https://localhost:8080/",
          "height": 34
        }
      },
      "source": [
        "a = np.array([1, 3, 5, 7])\n",
        "a = np.append(a, 7)\n",
        "a"
      ],
      "execution_count": null,
      "outputs": [
        {
          "output_type": "execute_result",
          "data": {
            "text/plain": [
              "array([1, 3, 5, 7, 7])"
            ]
          },
          "metadata": {
            "tags": []
          },
          "execution_count": 40
        }
      ]
    },
    {
      "cell_type": "code",
      "metadata": {
        "id": "fIz3tgMasYNS",
        "outputId": "3ce5d3d0-1ef7-48ab-a0e5-a049141e3e12",
        "colab": {
          "base_uri": "https://localhost:8080/",
          "height": 34
        }
      },
      "source": [
        "#Можно делать маски:\n",
        "print(a[[False, False,  True,  True, False]])"
      ],
      "execution_count": null,
      "outputs": [
        {
          "output_type": "stream",
          "text": [
            "[5 7]\n"
          ],
          "name": "stdout"
        }
      ]
    },
    {
      "cell_type": "code",
      "metadata": {
        "id": "sGmF32duskl-",
        "outputId": "acc7ccc2-5be2-4abf-a1bb-cc380eec9d5a",
        "colab": {
          "base_uri": "https://localhost:8080/",
          "height": 34
        }
      },
      "source": [
        "a = np.arange(1, 15, 0.5)\n",
        "mask = (a < 10) * (a > 3)\n",
        "a[mask]"
      ],
      "execution_count": null,
      "outputs": [
        {
          "output_type": "execute_result",
          "data": {
            "text/plain": [
              "array([3.5, 4. , 4.5, 5. , 5.5, 6. , 6.5, 7. , 7.5, 8. , 8.5, 9. , 9.5])"
            ]
          },
          "metadata": {
            "tags": []
          },
          "execution_count": 42
        }
      ]
    },
    {
      "cell_type": "code",
      "metadata": {
        "id": "jI11YB-N5gb7",
        "outputId": "aa48a9a6-6623-4eaf-bd70-98cd1b270c38",
        "colab": {
          "base_uri": "https://localhost:8080/",
          "height": 34
        }
      },
      "source": [
        "#очень удобно что в массивах numpy можно обращаться к ячейкам по индексу\n",
        "np.random.rand(3,)[1]"
      ],
      "execution_count": null,
      "outputs": [
        {
          "output_type": "execute_result",
          "data": {
            "text/plain": [
              "0.3131653635466932"
            ]
          },
          "metadata": {
            "tags": []
          },
          "execution_count": 44
        }
      ]
    },
    {
      "cell_type": "markdown",
      "metadata": {
        "id": "JjvX5gJnoqDP"
      },
      "source": [
        "**Операции над матрицами**"
      ]
    },
    {
      "cell_type": "code",
      "metadata": {
        "id": "7OZ4zGHsottf"
      },
      "source": [
        "X = np.random.rand(4,4)\n",
        "Y = np.random.rand(4,4)"
      ],
      "execution_count": null,
      "outputs": []
    },
    {
      "cell_type": "code",
      "metadata": {
        "id": "6mh9xDIe6iZl",
        "outputId": "df4ab589-83ea-45cd-a7fe-2e289181625e",
        "colab": {
          "base_uri": "https://localhost:8080/",
          "height": 84
        }
      },
      "source": [
        "X"
      ],
      "execution_count": null,
      "outputs": [
        {
          "output_type": "execute_result",
          "data": {
            "text/plain": [
              "array([[0.22651048, 0.58058677, 0.47970971, 0.40150481],\n",
              "       [0.08755502, 0.62008266, 0.94753807, 0.45315535],\n",
              "       [0.68865708, 0.65056236, 0.85823647, 0.73683761],\n",
              "       [0.15265707, 0.63556416, 0.53171029, 0.24426404]])"
            ]
          },
          "metadata": {
            "tags": []
          },
          "execution_count": 46
        }
      ]
    },
    {
      "cell_type": "code",
      "metadata": {
        "id": "7e5M1eK_35gW",
        "outputId": "b675bdbc-37cf-4f01-c583-87b2fa43437c",
        "colab": {
          "base_uri": "https://localhost:8080/",
          "height": 34
        }
      },
      "source": [
        "#обращение к конкретному элементу:\n",
        "X[1,2]"
      ],
      "execution_count": null,
      "outputs": [
        {
          "output_type": "execute_result",
          "data": {
            "text/plain": [
              "0.9475380659615873"
            ]
          },
          "metadata": {
            "tags": []
          },
          "execution_count": 47
        }
      ]
    },
    {
      "cell_type": "code",
      "metadata": {
        "id": "6fIplt-E6Bss",
        "outputId": "07b33ce2-b9d1-4f8d-ade1-45ef2fb954ca",
        "colab": {
          "base_uri": "https://localhost:8080/",
          "height": 34
        }
      },
      "source": [
        "np.diag(X)"
      ],
      "execution_count": null,
      "outputs": [
        {
          "output_type": "execute_result",
          "data": {
            "text/plain": [
              "array([0.22651048, 0.62008266, 0.85823647, 0.24426404])"
            ]
          },
          "metadata": {
            "tags": []
          },
          "execution_count": 48
        }
      ]
    },
    {
      "cell_type": "code",
      "metadata": {
        "id": "Vpp7rx6N4SCe",
        "outputId": "cd56312a-5133-4be1-ddc5-7c2dd47ae06b",
        "colab": {
          "base_uri": "https://localhost:8080/",
          "height": 34
        }
      },
      "source": [
        "X.ndim"
      ],
      "execution_count": null,
      "outputs": [
        {
          "output_type": "execute_result",
          "data": {
            "text/plain": [
              "2"
            ]
          },
          "metadata": {
            "tags": []
          },
          "execution_count": 49
        }
      ]
    },
    {
      "cell_type": "code",
      "metadata": {
        "id": "8WHfvWuY6xIs",
        "outputId": "892748d2-0db7-4218-b83c-ac4b2990bdea",
        "colab": {
          "base_uri": "https://localhost:8080/",
          "height": 34
        }
      },
      "source": [
        "X.shape"
      ],
      "execution_count": null,
      "outputs": [
        {
          "output_type": "execute_result",
          "data": {
            "text/plain": [
              "(4, 4)"
            ]
          },
          "metadata": {
            "tags": []
          },
          "execution_count": 7
        }
      ]
    },
    {
      "cell_type": "code",
      "metadata": {
        "id": "GD0RDmCF60r6",
        "outputId": "be9293dd-c66e-4440-a9f3-5384635d263c",
        "colab": {
          "base_uri": "https://localhost:8080/",
          "height": 84
        }
      },
      "source": [
        "X.T"
      ],
      "execution_count": null,
      "outputs": [
        {
          "output_type": "execute_result",
          "data": {
            "text/plain": [
              "array([[0.22651048, 0.08755502, 0.68865708, 0.15265707],\n",
              "       [0.58058677, 0.62008266, 0.65056236, 0.63556416],\n",
              "       [0.47970971, 0.94753807, 0.85823647, 0.53171029],\n",
              "       [0.40150481, 0.45315535, 0.73683761, 0.24426404]])"
            ]
          },
          "metadata": {
            "tags": []
          },
          "execution_count": 50
        }
      ]
    },
    {
      "cell_type": "code",
      "metadata": {
        "id": "-LMCg2QJrr7i",
        "outputId": "65af5e9d-b30a-4eaf-c963-97f576eedbb6",
        "colab": {
          "base_uri": "https://localhost:8080/",
          "height": 84
        }
      },
      "source": [
        "X"
      ],
      "execution_count": null,
      "outputs": [
        {
          "output_type": "execute_result",
          "data": {
            "text/plain": [
              "array([[0.77914093, 0.76398995, 0.27056739, 0.59682662],\n",
              "       [0.47706274, 0.04442296, 0.04882901, 0.84319607],\n",
              "       [0.6564771 , 0.05182095, 0.33319085, 0.40950842],\n",
              "       [0.71890061, 0.46881715, 0.1395023 , 0.62517735]])"
            ]
          },
          "metadata": {
            "tags": []
          },
          "execution_count": 10
        }
      ]
    }
  ]
}