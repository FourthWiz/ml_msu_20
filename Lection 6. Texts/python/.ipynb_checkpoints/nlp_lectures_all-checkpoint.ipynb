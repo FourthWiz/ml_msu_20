{
 "cells": [
  {
   "cell_type": "code",
   "execution_count": 1,
   "metadata": {},
   "outputs": [],
   "source": [
    "from IPython.display import Image\n",
    "\n",
    "import pandas as pd\n",
    "import numpy as np"
   ]
  },
  {
   "cell_type": "code",
   "execution_count": 2,
   "metadata": {},
   "outputs": [],
   "source": [
    "SEED = 42"
   ]
  },
  {
   "cell_type": "markdown",
   "metadata": {},
   "source": [
    "# Работа с текстовыми данными 🤓\n",
    "\n",
    "Алгоритмы, вообще говоря, напрямую не умеет работать с текстом/словами, поэтому необходимо уметь преобразовывать его/их в векторное представление из чисел, при чем желательно, чтобы этот вектор был не слишком большой размерности.\n",
    "\n",
    "## Примеры задач\n",
    "\n",
    "    Предсказание по тексту его рейтинга\n",
    "    Определение эмоционального окраса текста (Sentiment Analysis)\n",
    "    Определение темы текста (тематическое моделирование)\n",
    "    Кластеризация новостей по сюжетам\n",
    "    Построение аннотаций текста\n",
    "    и многое-многое другое"
   ]
  },
  {
   "cell_type": "markdown",
   "metadata": {},
   "source": [
    "## Преобразование категориальных признаков\n",
    "\n",
    "По сути, самый тривиальный пример - наличие категориальных признаков, которые могут быть как числовыми, так и буквенными/словесными, а, значит, надо такие фичи как-то кодировать.\n",
    "\n",
    "Остановимся на наиболее используемых методиках кодирования категориальных признаков: **label encoding**, **one hot encoding (dummy encoding)**, **target encoding** "
   ]
  },
  {
   "cell_type": "code",
   "execution_count": 3,
   "metadata": {},
   "outputs": [],
   "source": [
    "from category_encoders import OneHotEncoder, OrdinalEncoder, TargetEncoder "
   ]
  },
  {
   "cell_type": "markdown",
   "metadata": {},
   "source": [
    "**Label encoding** заключается в том, что каждая уникальная категория отождествляется с номером от 1 до N, где N - число уникальных категорий, можно сказать, что расставляются своего рода ранги.\n",
    "\n",
    "Стоит отметить, что помимо label encoding есть ordinal encoding, единственное отличие между которыми состоит в том, что label encoding не учитывает истинный порядок объектов.\n",
    "<br>\n",
    "*Например*, рассмотрим образование: начальное, среднее, высшее, виден порядок и под ordinal encoding зачастую понимается кодировка именно в виде *начальное $\\rightarrow$ 1, среднее $\\rightarrow$ 2, высшее $\\rightarrow$ 3*\n",
    "\n",
    "**Что хорошего?** Теперь любой алгортм сможет принять такой закодированный столбец\n",
    "<br>\n",
    "**Что плохого?** Может сложиться впечатление, что одна категория больше, например, другой, что, вообще говоря неверно, а также что можно складывать категории, то есть неявным образом введена алгебра, например в случае \n",
    "метрических алгоритмов, очевидно, что это доставляет проблемы ввиду их особенностей работы.\n",
    "<br>\n",
    "**Примеры, где реализовано:** pandas.factorize, sklearn.preprocessing.LabelEncoder, category_encoders.OrdinalEncoder\n",
    "\n",
    "**One Hot Encoding**\n",
    "\n",
    "Создает N новых столбцов 1..N (по числу уникальных категорий), при чем i-я строка принимает в j-м столбце 1 тогда и только тогда, когда он соответствует заданному признаку, в остальных столбцах i-й строки стоят 0\n",
    "\n",
    "**Что хорошего?** Вновь преобразовали в числа, также линейные алгоритмы уже могут улавливать линейную зависимость, например\n",
    "<br>\n",
    "**Что плохого?** В случае большого числа уникальных категорий мы добавляем много новых признаков, что замедлит работу алгоритма, а слишком большая разреженность в данных плоха, например, для алгоритмов, основаных на деревьях решений\n",
    "<br>\n",
    "**Примеры, где реализовано:** pandas.get_dummies, sklearn.preprocessing.OneHotEncoder, category_encoders.OneHotEncoder\n",
    "\n",
    "**Замечание**: есть еще, так называемое, dummy кодирование, которое представляет то же самое one hot, но главным отличием является то, что один произвольный признак выбрасывается, так как при исходном кодировании у нас получаются линейно зависимые признаки. Как известно, для линейных моделей мультиколлениарность это плохо, но в эру регуляризаторов даже на это можно не обращать внимание, они сделают всю работу за нас :)\n",
    "\n",
    "**Target encoding**\n",
    "\n",
    "Один из популярнейших способов кодирования особенно в случае использования GBDT алгоритмов. Учитывает значения целевого события при преобразовании категориального признака.\n",
    "\n",
    "Процесс преобразования (тривиальный вариант, так делать никогда не стоит):\n",
    "\n",
    "    Группировка по фиче\n",
    "    Подсчет среднего арифмитического целевого события в группах\n",
    "\n",
    "**Что хорошего?** Все еще можем передавать в любые алгоритмы, дает, как правило, лучше результаты, чем другие способы кодирования при применении алгоритмов GBDT\n",
    "<br>\n",
    "**Что плохого?** Используем таргет, следовательно, переобучаемся под него\n",
    "<br>\n",
    "**Примеры, где реализовано:** category_encoders.TargetEncoder\n",
    "\n",
    "Обычно используется при решении задач классификации, но можно и для регрессии.\n",
    "\n",
    "Есть несколько способов снизить переобучения (добавить регуляризацию):\n",
    "    \n",
    "    1. KFold scheme\n",
    "    2. Leave-one-out scheme\n",
    "    3. Smoothing (по сути, все,что штрафует кодирование редких категорий, некий регуляризатор \"доверия\"               кодировщику)\n",
    "    4. Expanding mean scheme\n",
    "    5. Adding random noise\n",
    "    \n",
    " Зачастую используют 1 или 4 способы, к которым можно также добавить 3. 4, например, реализован в catboost.\n",
    " \n",
    "Закрепим на игрушечном примере:"
   ]
  },
  {
   "cell_type": "code",
   "execution_count": 4,
   "metadata": {},
   "outputs": [
    {
     "name": "stdout",
     "output_type": "stream",
     "text": [
      "Count of unique categorical values: 5\n"
     ]
    },
    {
     "data": {
      "text/html": [
       "<div>\n",
       "<style scoped>\n",
       "    .dataframe tbody tr th:only-of-type {\n",
       "        vertical-align: middle;\n",
       "    }\n",
       "\n",
       "    .dataframe tbody tr th {\n",
       "        vertical-align: top;\n",
       "    }\n",
       "\n",
       "    .dataframe thead th {\n",
       "        text-align: right;\n",
       "    }\n",
       "</style>\n",
       "<table border=\"1\" class=\"dataframe\">\n",
       "  <thead>\n",
       "    <tr style=\"text-align: right;\">\n",
       "      <th></th>\n",
       "      <th>f</th>\n",
       "      <th>y</th>\n",
       "      <th>f_ordenc</th>\n",
       "      <th>f_ohe_0</th>\n",
       "      <th>f_ohe_1</th>\n",
       "      <th>f_ohe_2</th>\n",
       "      <th>f_ohe_3</th>\n",
       "      <th>f_ohe_4</th>\n",
       "      <th>f_naive_meanenc</th>\n",
       "      <th>f_meanenc</th>\n",
       "    </tr>\n",
       "  </thead>\n",
       "  <tbody>\n",
       "    <tr>\n",
       "      <th>0</th>\n",
       "      <td>w</td>\n",
       "      <td>0</td>\n",
       "      <td>1</td>\n",
       "      <td>1</td>\n",
       "      <td>0</td>\n",
       "      <td>0</td>\n",
       "      <td>0</td>\n",
       "      <td>0</td>\n",
       "      <td>0.000000</td>\n",
       "      <td>0.625000</td>\n",
       "    </tr>\n",
       "    <tr>\n",
       "      <th>1</th>\n",
       "      <td>b</td>\n",
       "      <td>0</td>\n",
       "      <td>2</td>\n",
       "      <td>0</td>\n",
       "      <td>1</td>\n",
       "      <td>0</td>\n",
       "      <td>0</td>\n",
       "      <td>0</td>\n",
       "      <td>0.500000</td>\n",
       "      <td>0.556271</td>\n",
       "    </tr>\n",
       "    <tr>\n",
       "      <th>2</th>\n",
       "      <td>a</td>\n",
       "      <td>1</td>\n",
       "      <td>3</td>\n",
       "      <td>0</td>\n",
       "      <td>0</td>\n",
       "      <td>1</td>\n",
       "      <td>0</td>\n",
       "      <td>0</td>\n",
       "      <td>1.000000</td>\n",
       "      <td>0.625000</td>\n",
       "    </tr>\n",
       "    <tr>\n",
       "      <th>3</th>\n",
       "      <td>c</td>\n",
       "      <td>1</td>\n",
       "      <td>4</td>\n",
       "      <td>0</td>\n",
       "      <td>0</td>\n",
       "      <td>0</td>\n",
       "      <td>1</td>\n",
       "      <td>0</td>\n",
       "      <td>0.666667</td>\n",
       "      <td>0.649945</td>\n",
       "    </tr>\n",
       "    <tr>\n",
       "      <th>4</th>\n",
       "      <td>c</td>\n",
       "      <td>1</td>\n",
       "      <td>4</td>\n",
       "      <td>0</td>\n",
       "      <td>0</td>\n",
       "      <td>0</td>\n",
       "      <td>1</td>\n",
       "      <td>0</td>\n",
       "      <td>0.666667</td>\n",
       "      <td>0.649945</td>\n",
       "    </tr>\n",
       "    <tr>\n",
       "      <th>5</th>\n",
       "      <td>c</td>\n",
       "      <td>0</td>\n",
       "      <td>4</td>\n",
       "      <td>0</td>\n",
       "      <td>0</td>\n",
       "      <td>0</td>\n",
       "      <td>1</td>\n",
       "      <td>0</td>\n",
       "      <td>0.666667</td>\n",
       "      <td>0.649945</td>\n",
       "    </tr>\n",
       "    <tr>\n",
       "      <th>6</th>\n",
       "      <td>b</td>\n",
       "      <td>1</td>\n",
       "      <td>2</td>\n",
       "      <td>0</td>\n",
       "      <td>1</td>\n",
       "      <td>0</td>\n",
       "      <td>0</td>\n",
       "      <td>0</td>\n",
       "      <td>0.500000</td>\n",
       "      <td>0.556271</td>\n",
       "    </tr>\n",
       "    <tr>\n",
       "      <th>7</th>\n",
       "      <td>e</td>\n",
       "      <td>1</td>\n",
       "      <td>5</td>\n",
       "      <td>0</td>\n",
       "      <td>0</td>\n",
       "      <td>0</td>\n",
       "      <td>0</td>\n",
       "      <td>1</td>\n",
       "      <td>1.000000</td>\n",
       "      <td>0.625000</td>\n",
       "    </tr>\n",
       "  </tbody>\n",
       "</table>\n",
       "</div>"
      ],
      "text/plain": [
       "   f  y  f_ordenc  f_ohe_0  f_ohe_1  f_ohe_2  f_ohe_3  f_ohe_4  \\\n",
       "0  w  0         1        1        0        0        0        0   \n",
       "1  b  0         2        0        1        0        0        0   \n",
       "2  a  1         3        0        0        1        0        0   \n",
       "3  c  1         4        0        0        0        1        0   \n",
       "4  c  1         4        0        0        0        1        0   \n",
       "5  c  0         4        0        0        0        1        0   \n",
       "6  b  1         2        0        1        0        0        0   \n",
       "7  e  1         5        0        0        0        0        1   \n",
       "\n",
       "   f_naive_meanenc  f_meanenc  \n",
       "0         0.000000   0.625000  \n",
       "1         0.500000   0.556271  \n",
       "2         1.000000   0.625000  \n",
       "3         0.666667   0.649945  \n",
       "4         0.666667   0.649945  \n",
       "5         0.666667   0.649945  \n",
       "6         0.500000   0.556271  \n",
       "7         1.000000   0.625000  "
      ]
     },
     "execution_count": 4,
     "metadata": {},
     "output_type": "execute_result"
    }
   ],
   "source": [
    "df = pd.DataFrame({'f':['w', 'b', 'a', 'c', 'c', 'c', 'b', 'e']\n",
    "                   , 'y': [0, 0, 1, 1, 1, 0, 1, 1]})\n",
    "\n",
    "print('Count of unique categorical values:', df['f'].unique().shape[0])\n",
    "\n",
    "f_ord = OrdinalEncoder().fit_transform(df['f'])\n",
    "f_ord.columns = ['f_ordenc']\n",
    "\n",
    "f_ohe = OneHotEncoder().fit_transform(df['f'])\n",
    "f_ohe.columns = [f'f_ohe_{i}' for i in range(f_ohe.shape[1])]\n",
    "\n",
    "f_naive_meanenc = pd.DataFrame(df.groupby(['f'])['y'].transform('mean').to_numpy(), columns=['f_naive_meanenc'])\n",
    "              \n",
    "f_meanenc = TargetEncoder(smoothing=5).fit_transform(df['f'], df['y'])\n",
    "f_meanenc.columns = ['f_meanenc']\n",
    "\n",
    "df = pd.concat([df, f_ord, f_ohe, f_naive_meanenc, f_meanenc], axis=1)\n",
    "\n",
    "df"
   ]
  },
  {
   "cell_type": "markdown",
   "metadata": {},
   "source": [
    "## Текстовые данные"
   ]
  },
  {
   "cell_type": "markdown",
   "metadata": {},
   "source": [
    "Прежде чем начать кодировку текстовых данных полезно выполнить ряд процедур таких, как приведение в один регистр, удаление стоп-слов, произвести нормализацию, удалить пунктуацию и т.д.\n",
    "\n",
    "**Вопсрос**: Какие вообще есть сложности и особенность при работе с текстовыми данными?\n",
    "\n",
    "    Омонимы, синонимы, опечатки и ошибки, неологизмы, пунктуация, порядок слов, контекст, устойчивые словосочетания и др.\n",
    "\n",
    "Рассмотрим основные этапы, которые часто делают при работе с текстами:\n",
    "* Приведение в один регистр\n",
    "\n",
    "* Удаление (обработка) пунктуации, а так же чисел (можно перевести их в текстовое описание) и прочих символов. Например, можно заменить на пробелы, но стоит делать это осторожно, так как могут быть общепринятые сокращения, например, \"к.т.н\", \"ООО\", смайлы помогают определить эмоциональность текста и т.п.\n",
    "   \n",
    "* Токенизация - разбиение на отдельные \"слова\"\n",
    "   \n",
    "* Нормализация - приведение слова к его начальной форме:\n",
    "        \n",
    "   * **Стемминг** - \"стрижка\" слова, то есть по некоторому правилу убираются несколько последних букв. Быстро, но далеко не всегда хорошо, возьмем в качестве примера глагол \"быть\" и его формы: был, есть, будет. Как ни \"стриги\" каждое из слов, они все будут отличаться друг от друга и никакой начальной формы не виднеется. Весьма неплохо подходит для английского языка.\n",
    "    \n",
    "   * **Лемматизация** - приведение слова в начальной форме путем использования некоторого словаря, в котором она хранится, если же такой формы не нашлось, то по определенному алгоритму выводится способ изменения слова. Так, например, все слова из примера выше могут быть приведены к одной форме \"быть\". Лемматизация лучше подходит для русского языка. Важно понимать, что и время работы ее дольше в сравнении со стеммингом.\n",
    "    \n",
    "* Удаление стоп-слов - общеупотребимых слов (союзы, предлоги, междометия и т.п.), то есть таких слов, которые часто встречаются вне зависимости от текста.\n",
    "   \n",
    "* Удаление редких слов, то есть таких, которые, например, встречаются всего пару раз во всей коллекции. Маловероятно, что таких слова смогут улучшить алгоритм\n",
    "   \n",
    "* Извлечение коллакация (устойчивых вырожений).\n",
    "  * Подход N-грамм: взять K самых частых N-gramm\n",
    "  * Подход PMI (Pointwise mutual information). $PMI(x, y) = \\log \\frac{p(x, y)}{p(x)p(y)}$ Чем больше PMI, тем больше вероятность что два события $x$ и $y$ происходят вместе. Далее надо вручную подобрать порог $thr$, выше которого N-gramm будут объявлены коллакациями\n",
    "  * Комбинирование двух предыдущих подходов: берем топ по $PMI > thr$, затем топ-K по частотам N-gramm либо выбрать том-K по частотам и топ-M по $PMI$ и пересечь полученные N-gramm\n",
    "   \n",
    "* **k-skip-n-grams** - набор из токенов длины n, причем расстояние между соседними должно составлять не более k токенов. Польза n-грамм состоит, например, в том: \"любить\" и \"не любить\" - два глагола противоположного смысла, подход 2-грамм учтет данный окрас, в то время как обычная токенизация разобьет \"не любить\" на 2 отдельных токена, а отдельная частица \"не\" врядли сможет привести к хорошему качеству. Так же k-skip-n-grams могут быть буквенными, то есть оперировать именно последовательностью символов\n",
    "   \n",
    "   Пример, возьмем предложение: _\"Хочу кайфовать и короткие лекции\"_. Выбросим стоп слово \"и\", получим:\n",
    "    * Униграммы (1-gramms): хочу, кайфовать, короткие, лекции\n",
    "    * Биграммы (2-gramms): хочу кайфовать, кайфовать короткие, короткие лекции\n",
    "    * 1-skip-2-gramm: биграммы + хочу короткие, кайфовать лекции \n",
    "   \n",
    "* Преобразование полученного результата в вектор чисел (о подходах пойдет речь ниже)\n",
    "   \n",
    "**Важно** понимать, что, по сути, обработка текста это в какой-то степени процесс творческий и зависит от конкретной задачи, что-то можно делать, что-то нет. Работая с русским текстом, можно, например \"ё\" заменить на \"е\", проверить, что буква \"о\" взята из русского алфавита, а не английского, глаголоы с \"не\" сливать при помощи нижнего подчеркивания: \"не пью\" -> \"не_пью\" и т.д."
   ]
  },
  {
   "cell_type": "markdown",
   "metadata": {},
   "source": [
    "В качестве примера рассмотрим датасет 20newsgroups, где надо классифицировать тексты по 20 тематикам"
   ]
  },
  {
   "cell_type": "code",
   "execution_count": 5,
   "metadata": {},
   "outputs": [],
   "source": [
    "#загрузка текстового датасета\n",
    "from sklearn.datasets import fetch_20newsgroups\n",
    "\n",
    "#from pymystem3 import Mystem #для использования лемматизации\n",
    "import spacy #для использования лемматизации\n",
    "from nltk.corpus import stopwords #для выбрасывания стоп слов\n",
    "\n",
    "import re"
   ]
  },
  {
   "cell_type": "code",
   "execution_count": 6,
   "metadata": {},
   "outputs": [
    {
     "name": "stderr",
     "output_type": "stream",
     "text": [
      "[nltk_data] Downloading package stopwords to\n",
      "[nltk_data]     /Users/Barnett/nltk_data...\n",
      "[nltk_data]   Package stopwords is already up-to-date!\n"
     ]
    },
    {
     "data": {
      "text/plain": [
       "True"
      ]
     },
     "execution_count": 6,
     "metadata": {},
     "output_type": "execute_result"
    }
   ],
   "source": [
    "import nltk\n",
    "nltk.download('stopwords')"
   ]
  },
  {
   "cell_type": "code",
   "execution_count": 7,
   "metadata": {},
   "outputs": [],
   "source": [
    "#simple function of text preprocessing\n",
    "def preprocess_text(series_column, stop_words, allowed_postags=['NOUN', 'ADJ', 'VERB', 'ADV']):\n",
    "    ''' Simple text preprocessing\n",
    "        \n",
    "    Parameters:\n",
    "        series_column - pandas.series\n",
    "        stop_words - list of stop words\n",
    "        allowed_postags - what types of words must be kept after lemmatization\n",
    "        \n",
    "    Return:\n",
    "        preprocessed series\n",
    "    '''\n",
    "    series_column = series_column.str.lower()\n",
    "    #series_column = series_column.replace(r'[^a-z]', ' ', regex = True)\n",
    "    \n",
    "    for i, text in series_column.iteritems():\n",
    "        \n",
    "        #drop emails\n",
    "        text = re.sub('\\S*@\\S*\\s?', '', text)\n",
    "        # Remove distracting single quotes\n",
    "        text = re.sub(\"\\'\", \"\", text)\n",
    "        #keep only letters\n",
    "        text = re.sub('[^a-z]', ' ', text)\n",
    "        \n",
    "        #drop whitespaces\n",
    "        text = ' '.join(text.split())\n",
    "        \n",
    "        #normalization and drop stop words and too short ones\n",
    "        doc = nlp(text)\n",
    "        tokens = [token.lemma_ for token in doc if token.pos_ in allowed_postags\n",
    "                                                   and token.lemma_ not in stop_words\n",
    "                                                   and len(token.lemma_) > 2]\n",
    "        \n",
    "        #old approach but faster than spacy\n",
    "        #tokens = mystem.lemmatize(text)\n",
    "        #tokens = [token for token in tokens if token not in [' ', '\\n'] \n",
    "        #                                      and token not in stop_words\n",
    "        #                                      and len(token) > 2]\n",
    "        \n",
    "        text = ' '.join(tokens)\n",
    "        series_column[i] = text\n",
    "    \n",
    "    return series_column"
   ]
  },
  {
   "cell_type": "code",
   "execution_count": 8,
   "metadata": {},
   "outputs": [],
   "source": [
    "#mystem = Mystem() #must be defined beforehand to speed up\n",
    "nlp = spacy.load('en', disable=['parser', 'ner'])\n",
    "stop_words = stopwords.words('english')"
   ]
  },
  {
   "cell_type": "markdown",
   "metadata": {},
   "source": [
    "Посмотрим, что же это за стоп-слова такие:"
   ]
  },
  {
   "cell_type": "code",
   "execution_count": 9,
   "metadata": {},
   "outputs": [
    {
     "name": "stdout",
     "output_type": "stream",
     "text": [
      "i, me, my, myself, we, our, ours, ourselves, you, you're, you've, you'll, you'd, your, "
     ]
    }
   ],
   "source": [
    "for i, word in enumerate(stop_words, start=1):\n",
    "    if not i % 15:\n",
    "        break\n",
    "    print(word, end=', ')"
   ]
  },
  {
   "cell_type": "code",
   "execution_count": 10,
   "metadata": {},
   "outputs": [
    {
     "name": "stdout",
     "output_type": "stream",
     "text": [
      "(11314, 3)\n"
     ]
    },
    {
     "data": {
      "text/html": [
       "<div>\n",
       "<style scoped>\n",
       "    .dataframe tbody tr th:only-of-type {\n",
       "        vertical-align: middle;\n",
       "    }\n",
       "\n",
       "    .dataframe tbody tr th {\n",
       "        vertical-align: top;\n",
       "    }\n",
       "\n",
       "    .dataframe thead th {\n",
       "        text-align: right;\n",
       "    }\n",
       "</style>\n",
       "<table border=\"1\" class=\"dataframe\">\n",
       "  <thead>\n",
       "    <tr style=\"text-align: right;\">\n",
       "      <th></th>\n",
       "      <th>text</th>\n",
       "      <th>target</th>\n",
       "      <th>target_names</th>\n",
       "    </tr>\n",
       "  </thead>\n",
       "  <tbody>\n",
       "    <tr>\n",
       "      <th>0</th>\n",
       "      <td>From: lerxst@wam.umd.edu (where's my thing)\\nS...</td>\n",
       "      <td>7</td>\n",
       "      <td>rec.autos</td>\n",
       "    </tr>\n",
       "    <tr>\n",
       "      <th>1</th>\n",
       "      <td>From: guykuo@carson.u.washington.edu (Guy Kuo)...</td>\n",
       "      <td>4</td>\n",
       "      <td>comp.sys.mac.hardware</td>\n",
       "    </tr>\n",
       "    <tr>\n",
       "      <th>2</th>\n",
       "      <td>From: twillis@ec.ecn.purdue.edu (Thomas E Will...</td>\n",
       "      <td>4</td>\n",
       "      <td>comp.sys.mac.hardware</td>\n",
       "    </tr>\n",
       "  </tbody>\n",
       "</table>\n",
       "</div>"
      ],
      "text/plain": [
       "                                                text  target  \\\n",
       "0  From: lerxst@wam.umd.edu (where's my thing)\\nS...       7   \n",
       "1  From: guykuo@carson.u.washington.edu (Guy Kuo)...       4   \n",
       "2  From: twillis@ec.ecn.purdue.edu (Thomas E Will...       4   \n",
       "\n",
       "            target_names  \n",
       "0              rec.autos  \n",
       "1  comp.sys.mac.hardware  \n",
       "2  comp.sys.mac.hardware  "
      ]
     },
     "execution_count": 10,
     "metadata": {},
     "output_type": "execute_result"
    }
   ],
   "source": [
    "df = pd.DataFrame({'text': fetch_20newsgroups(subset='train')['data']\n",
    "                   , 'target': fetch_20newsgroups(subset='train')['target']\n",
    "                  })\n",
    "\n",
    "d = dict(zip(range(20), fetch_20newsgroups(subset='train')['target_names']))\n",
    "df['target_names'] = list(map(lambda x: d[x], df['target']))\n",
    "\n",
    "print(df.shape)\n",
    "df.head(3)"
   ]
  },
  {
   "cell_type": "code",
   "execution_count": 11,
   "metadata": {},
   "outputs": [
    {
     "name": "stdout",
     "output_type": "stream",
     "text": [
      "CPU times: user 3min 5s, sys: 8.66 s, total: 3min 13s\n",
      "Wall time: 3min 26s\n"
     ]
    }
   ],
   "source": [
    "%%time\n",
    "df['text'] = preprocess_text(df['text'], stop_words)"
   ]
  },
  {
   "cell_type": "code",
   "execution_count": 12,
   "metadata": {},
   "outputs": [
    {
     "data": {
      "text/html": [
       "<div>\n",
       "<style scoped>\n",
       "    .dataframe tbody tr th:only-of-type {\n",
       "        vertical-align: middle;\n",
       "    }\n",
       "\n",
       "    .dataframe tbody tr th {\n",
       "        vertical-align: top;\n",
       "    }\n",
       "\n",
       "    .dataframe thead th {\n",
       "        text-align: right;\n",
       "    }\n",
       "</style>\n",
       "<table border=\"1\" class=\"dataframe\">\n",
       "  <thead>\n",
       "    <tr style=\"text-align: right;\">\n",
       "      <th></th>\n",
       "      <th>text</th>\n",
       "      <th>target</th>\n",
       "      <th>target_names</th>\n",
       "    </tr>\n",
       "  </thead>\n",
       "  <tbody>\n",
       "    <tr>\n",
       "      <th>0</th>\n",
       "      <td>thing subject car nntp post host line wonder c...</td>\n",
       "      <td>7</td>\n",
       "      <td>rec.autos</td>\n",
       "    </tr>\n",
       "    <tr>\n",
       "      <th>1</th>\n",
       "      <td>poll final summary final call clock report key...</td>\n",
       "      <td>4</td>\n",
       "      <td>comp.sys.mac.hardware</td>\n",
       "    </tr>\n",
       "    <tr>\n",
       "      <th>2</th>\n",
       "      <td>subject question computer network distribution...</td>\n",
       "      <td>4</td>\n",
       "      <td>comp.sys.mac.hardware</td>\n",
       "    </tr>\n",
       "  </tbody>\n",
       "</table>\n",
       "</div>"
      ],
      "text/plain": [
       "                                                text  target  \\\n",
       "0  thing subject car nntp post host line wonder c...       7   \n",
       "1  poll final summary final call clock report key...       4   \n",
       "2  subject question computer network distribution...       4   \n",
       "\n",
       "            target_names  \n",
       "0              rec.autos  \n",
       "1  comp.sys.mac.hardware  \n",
       "2  comp.sys.mac.hardware  "
      ]
     },
     "execution_count": 12,
     "metadata": {},
     "output_type": "execute_result"
    }
   ],
   "source": [
    "df.head(3)"
   ]
  },
  {
   "cell_type": "markdown",
   "metadata": {},
   "source": [
    "## Кодирование текста"
   ]
  },
  {
   "cell_type": "code",
   "execution_count": 13,
   "metadata": {},
   "outputs": [],
   "source": [
    "from collections import Counter\n",
    "from sklearn.feature_extraction.text import CountVectorizer"
   ]
  },
  {
   "cell_type": "markdown",
   "metadata": {},
   "source": [
    "### Bag of words (BoW)"
   ]
  },
  {
   "cell_type": "markdown",
   "metadata": {},
   "source": [
    "Пожалуй, самая простая модель представления текстовых данных. Базируется на количестве вхождения слова в документе.\n",
    "\n",
    "Пусть есть N уникальных слов коллекции $w_1,..., w_N$. Каждый документ (текст) кодируется вектором длины N, причем i-й признак равен количеству (либо доле) вхождений слова $w_i$ в документе, также может рассматриваться не количество вхождений, а доля, то есть производится нормировка.\n",
    "\n",
    "Если слово встречается часто, то оно не важно (ествественно, стоп-слова не учитываются).\n",
    "\n",
    "Как можно заметить, для BoW не важен порядок слов в документе. Одно из преимуществ заключается в том, что значение  каждого числа в векторе интерпретируемо, но в то же время есть и недостаток, заключающийся, что для большого корпуса слов будут получатся огромные векторы"
   ]
  },
  {
   "cell_type": "markdown",
   "metadata": {},
   "source": [
    "**Рассмотрим на примере:** 😏\n",
    "\n",
    "    \"Вася сдал все экзамены и пошел в магазин за пивом и виски. Виски Вася любит без колы\"\n",
    "    \"А его сосед Ваня экзамен не сдал, но виски любит тоже\"\n",
    "\n",
    "Предположим, что мы предобработали текста примерно по алгоритму выше, не используя k-skip-n-gramm (*плохо ли это?*) и получили:\n",
    "    \n",
    "    \"вася, сдать, экзмен,  идти, магазин, пиво, виски. виски, вася, любить, кола\"\n",
    "    \"сосед, ваня, экзамен, не_сдавать, виски, любить\""
   ]
  },
  {
   "cell_type": "code",
   "execution_count": 14,
   "metadata": {},
   "outputs": [
    {
     "data": {
      "text/plain": [
       "['вася сдать экзамен идти магазин пиво виски виски вася любить кола',\n",
       " 'сосед ваня экзамен не_сдавать виски любить']"
      ]
     },
     "execution_count": 14,
     "metadata": {},
     "output_type": "execute_result"
    }
   ],
   "source": [
    "sent1 = 'вася сдать экзамен идти магазин пиво виски виски вася любить кола'\n",
    "sent2 = 'сосед ваня экзамен не_сдавать виски любить'\n",
    "corpus = [sent1, sent2]\n",
    "\n",
    "for i, x in enumerate(corpus):\n",
    "    corpus[i] = ' '.join(x.split())\n",
    "    \n",
    "corpus"
   ]
  },
  {
   "cell_type": "markdown",
   "metadata": {},
   "source": [
    "**Вопрос 1**: сколько уникальных слов?\n",
    "\n",
    "**Вопрос 2**: Выберите любые два слова из разных предложения и скажите, как они закодируются (например, \"виски\" из 1-го и \"любить\" из 2-го)"
   ]
  },
  {
   "cell_type": "code",
   "execution_count": 15,
   "metadata": {},
   "outputs": [],
   "source": [
    "def bow_byhand(corpus, is_print=False):\n",
    "    '''Simple variant of BoW realisation for preprocessed corpus\n",
    "    where words in sentences (and sentences in documents) divided by space only'''\n",
    "    \n",
    "    uniq_words = set()\n",
    "    for text in corpus:\n",
    "        uniq_words |= set(text.split())\n",
    "    uniq_words = list(uniq_words)\n",
    "    \n",
    "    if is_print:\n",
    "        print(f\"Cnt of unique words: {len(uniq_words)}\")\n",
    "    \n",
    "    cnt_words = {i: Counter(x.split()) for i, x in enumerate(corpus)}\n",
    "    \n",
    "    ans = pd.DataFrame([cnt_words[i] for i, x in enumerate(cnt_words)])\n",
    "    ans = ans.fillna(0)\n",
    "    \n",
    "    #just in case\n",
    "    ans = ans.reindex(sorted(ans.columns), axis=1)\n",
    "    \n",
    "    return ans"
   ]
  },
  {
   "cell_type": "code",
   "execution_count": 16,
   "metadata": {},
   "outputs": [
    {
     "data": {
      "text/html": [
       "<div>\n",
       "<style scoped>\n",
       "    .dataframe tbody tr th:only-of-type {\n",
       "        vertical-align: middle;\n",
       "    }\n",
       "\n",
       "    .dataframe tbody tr th {\n",
       "        vertical-align: top;\n",
       "    }\n",
       "\n",
       "    .dataframe thead th {\n",
       "        text-align: right;\n",
       "    }\n",
       "</style>\n",
       "<table border=\"1\" class=\"dataframe\">\n",
       "  <thead>\n",
       "    <tr style=\"text-align: right;\">\n",
       "      <th></th>\n",
       "      <th>ваня</th>\n",
       "      <th>вася</th>\n",
       "      <th>виски</th>\n",
       "      <th>идти</th>\n",
       "      <th>кола</th>\n",
       "      <th>любить</th>\n",
       "      <th>магазин</th>\n",
       "      <th>не_сдавать</th>\n",
       "      <th>пиво</th>\n",
       "      <th>сдать</th>\n",
       "      <th>сосед</th>\n",
       "      <th>экзамен</th>\n",
       "    </tr>\n",
       "  </thead>\n",
       "  <tbody>\n",
       "    <tr>\n",
       "      <th>0</th>\n",
       "      <td>0</td>\n",
       "      <td>2</td>\n",
       "      <td>2</td>\n",
       "      <td>1</td>\n",
       "      <td>1</td>\n",
       "      <td>1</td>\n",
       "      <td>1</td>\n",
       "      <td>0</td>\n",
       "      <td>1</td>\n",
       "      <td>1</td>\n",
       "      <td>0</td>\n",
       "      <td>1</td>\n",
       "    </tr>\n",
       "    <tr>\n",
       "      <th>1</th>\n",
       "      <td>1</td>\n",
       "      <td>0</td>\n",
       "      <td>1</td>\n",
       "      <td>0</td>\n",
       "      <td>0</td>\n",
       "      <td>1</td>\n",
       "      <td>0</td>\n",
       "      <td>1</td>\n",
       "      <td>0</td>\n",
       "      <td>0</td>\n",
       "      <td>1</td>\n",
       "      <td>1</td>\n",
       "    </tr>\n",
       "  </tbody>\n",
       "</table>\n",
       "</div>"
      ],
      "text/plain": [
       "   ваня  вася  виски  идти  кола  любить  магазин  не_сдавать  пиво  сдать  \\\n",
       "0     0     2      2     1     1       1        1           0     1      1   \n",
       "1     1     0      1     0     0       1        0           1     0      0   \n",
       "\n",
       "   сосед  экзамен  \n",
       "0      0        1  \n",
       "1      1        1  "
      ]
     },
     "execution_count": 16,
     "metadata": {},
     "output_type": "execute_result"
    }
   ],
   "source": [
    "temp = bow_byhand(corpus).astype(int)\n",
    "temp"
   ]
  },
  {
   "cell_type": "markdown",
   "metadata": {},
   "source": [
    "Сравним с реализацией из sklearn"
   ]
  },
  {
   "cell_type": "code",
   "execution_count": 17,
   "metadata": {},
   "outputs": [
    {
     "data": {
      "text/html": [
       "<div>\n",
       "<style scoped>\n",
       "    .dataframe tbody tr th:only-of-type {\n",
       "        vertical-align: middle;\n",
       "    }\n",
       "\n",
       "    .dataframe tbody tr th {\n",
       "        vertical-align: top;\n",
       "    }\n",
       "\n",
       "    .dataframe thead th {\n",
       "        text-align: right;\n",
       "    }\n",
       "</style>\n",
       "<table border=\"1\" class=\"dataframe\">\n",
       "  <thead>\n",
       "    <tr style=\"text-align: right;\">\n",
       "      <th></th>\n",
       "      <th>ваня</th>\n",
       "      <th>вася</th>\n",
       "      <th>виски</th>\n",
       "      <th>идти</th>\n",
       "      <th>кола</th>\n",
       "      <th>любить</th>\n",
       "      <th>магазин</th>\n",
       "      <th>не_сдавать</th>\n",
       "      <th>пиво</th>\n",
       "      <th>сдать</th>\n",
       "      <th>сосед</th>\n",
       "      <th>экзамен</th>\n",
       "    </tr>\n",
       "  </thead>\n",
       "  <tbody>\n",
       "    <tr>\n",
       "      <th>0</th>\n",
       "      <td>0</td>\n",
       "      <td>2</td>\n",
       "      <td>2</td>\n",
       "      <td>1</td>\n",
       "      <td>1</td>\n",
       "      <td>1</td>\n",
       "      <td>1</td>\n",
       "      <td>0</td>\n",
       "      <td>1</td>\n",
       "      <td>1</td>\n",
       "      <td>0</td>\n",
       "      <td>1</td>\n",
       "    </tr>\n",
       "    <tr>\n",
       "      <th>1</th>\n",
       "      <td>1</td>\n",
       "      <td>0</td>\n",
       "      <td>1</td>\n",
       "      <td>0</td>\n",
       "      <td>0</td>\n",
       "      <td>1</td>\n",
       "      <td>0</td>\n",
       "      <td>1</td>\n",
       "      <td>0</td>\n",
       "      <td>0</td>\n",
       "      <td>1</td>\n",
       "      <td>1</td>\n",
       "    </tr>\n",
       "  </tbody>\n",
       "</table>\n",
       "</div>"
      ],
      "text/plain": [
       "   ваня  вася  виски  идти  кола  любить  магазин  не_сдавать  пиво  сдать  \\\n",
       "0     0     2      2     1     1       1        1           0     1      1   \n",
       "1     1     0      1     0     0       1        0           1     0      0   \n",
       "\n",
       "   сосед  экзамен  \n",
       "0      0        1  \n",
       "1      1        1  "
      ]
     },
     "execution_count": 17,
     "metadata": {},
     "output_type": "execute_result"
    }
   ],
   "source": [
    "vectorizer = CountVectorizer(max_df=1.0, min_df=1)\n",
    "matrix = vectorizer.fit_transform(corpus)\n",
    "pd.DataFrame(matrix.toarray(), columns=vectorizer.get_feature_names())"
   ]
  },
  {
   "cell_type": "markdown",
   "metadata": {},
   "source": [
    "Вернемся к исходному датасету новостных групп\n",
    "\n",
    "Посчитаем количество уникальных слов во всей коллекции"
   ]
  },
  {
   "cell_type": "code",
   "execution_count": 18,
   "metadata": {},
   "outputs": [
    {
     "name": "stdout",
     "output_type": "stream",
     "text": [
      "Cnt of unique words: 40943\n"
     ]
    }
   ],
   "source": [
    "s = set()\n",
    "for row in df.iterrows():\n",
    "    s |= set(row[1]['text'].split())\n",
    "print(f\"Cnt of unique words: {len(s)}\")"
   ]
  },
  {
   "cell_type": "code",
   "execution_count": 19,
   "metadata": {},
   "outputs": [
    {
     "name": "stdout",
     "output_type": "stream",
     "text": [
      "(11314, 243)\n"
     ]
    },
    {
     "data": {
      "text/plain": [
       "array([[0, 0, 0, 0, 0, 0, 0, 0, 0, 0, 0, 0, 0, 0, 0, 0, 0, 0, 0, 0],\n",
       "       [0, 0, 0, 2, 0, 0, 0, 0, 0, 0, 0, 0, 1, 0, 0, 1, 0, 0, 0, 0],\n",
       "       [0, 1, 1, 0, 0, 0, 0, 0, 0, 0, 0, 0, 1, 0, 0, 0, 0, 0, 0, 0],\n",
       "       [0, 0, 0, 0, 1, 0, 0, 0, 0, 0, 0, 0, 0, 0, 0, 1, 0, 0, 0, 0],\n",
       "       [0, 0, 0, 0, 0, 0, 0, 0, 0, 1, 0, 0, 0, 0, 0, 2, 0, 0, 0, 0]])"
      ]
     },
     "execution_count": 19,
     "metadata": {},
     "output_type": "execute_result"
    }
   ],
   "source": [
    "vectorizer = CountVectorizer(max_df=0.95, min_df=0.05, ngram_range=(1, 1))\n",
    "matrix = vectorizer.fit_transform(df['text'])\n",
    "print(matrix.shape)\n",
    "matrix.toarray()[:5, :20]"
   ]
  },
  {
   "cell_type": "markdown",
   "metadata": {},
   "source": [
    "Как видно получили матрицу \"счетчик слов\", которая является разреженной"
   ]
  },
  {
   "cell_type": "markdown",
   "metadata": {},
   "source": [
    "### TF-IDF\n",
    "\n",
    "(term frequency-inverse document frequency)"
   ]
  },
  {
   "cell_type": "code",
   "execution_count": 20,
   "metadata": {},
   "outputs": [],
   "source": [
    "from sklearn.feature_extraction.text import TfidfVectorizer"
   ]
  },
  {
   "cell_type": "markdown",
   "metadata": {},
   "source": [
    "Несколько более сложный подход к формированию вектора признаков.\n",
    "\n",
    "Также чем чаще встречается слово в документе, тем оно важнее, но есть и вторая сторона: если слово встречается редко в других документах, то, скорей всего, оно также важно для текущего текста, и по этому слову данный документ можно отлечить от остальных.\n",
    "\n",
    "**TF**  — это частотность термина, которая измеряет, насколько часто термин встречается в документе.\n",
    "<br>\n",
    "**TF слова $word$** = (Количество раз, когда $word$ встретился в документе $d$ $/$ количество всех слов в документе). Обозначим за $n_{dw}$\n",
    "<br>\n",
    "В длинных документах слово может встретиться чаще, чем в коротких, поэтому пользуются не абсолютными, а относительными числами.\n",
    "\n",
    "**IDF** — это обратная частотность документов. Она измеряет непосредственно важность термина.\n",
    "<br>\n",
    "**IDF слова $word$** = логарифм(Общее количество документов / Количество документов, в которых встречается слово $word$ хотя бы один раз). Обозначим за $log \\frac{M}{n_{w}}$\n",
    "<br>\n",
    "Основание логарифма, по факту, особой роли не играет, в основном берут натуральный.\n",
    "\n",
    "**TF-IDF слова $word$ = (TF слова $word$) * (IDF слова $word$)**, или\n",
    "<br>\n",
    "TF-IDF($d$, $w$) = $n_{dw} * log \\frac{M}{n_{w}}$"
   ]
  },
  {
   "cell_type": "markdown",
   "metadata": {},
   "source": [
    "**Вернемся к нашему примеру:**"
   ]
  },
  {
   "cell_type": "code",
   "execution_count": 21,
   "metadata": {},
   "outputs": [
    {
     "data": {
      "text/plain": [
       "['вася сдать экзамен идти магазин пиво виски виски вася любить кола',\n",
       " 'сосед ваня экзамен не_сдавать виски любить']"
      ]
     },
     "execution_count": 21,
     "metadata": {},
     "output_type": "execute_result"
    }
   ],
   "source": [
    "corpus"
   ]
  },
  {
   "cell_type": "markdown",
   "metadata": {},
   "source": [
    "**Вопрос**: Выберите любые два слова из разных предложения и скажите как они закодируются (например, \"виски\" из 1-го и \"ваня\" из 2-го)"
   ]
  },
  {
   "cell_type": "code",
   "execution_count": 22,
   "metadata": {},
   "outputs": [],
   "source": [
    "def tfidf_byhand(corpus):\n",
    "    '''Simple variant of TF-IDF realisation for preprocessed corpus\n",
    "    where words in sentences (and sentences in documents) divided by space only'''\n",
    "    \n",
    "    ans = {}\n",
    "    N = len(corpus)\n",
    "    for i, text in enumerate(corpus):\n",
    "        cnter = Counter(text.split())\n",
    "        cnt_words = sum(cnter.values())\n",
    "        for word in cnter:\n",
    "            #tf\n",
    "            cnter[word] /= cnt_words\n",
    "            #tf-idf\n",
    "            cnter[word] *= np.log(N / sum([1 for text in corpus if word in text]))\n",
    "      \n",
    "        ans[i] = cnter\n",
    "        \n",
    "    ans = pd.DataFrame(ans).T\n",
    "    ans = ans.fillna(0)\n",
    "    \n",
    "    #just in case\n",
    "    ans = ans.reindex(sorted(ans.columns), axis=1)\n",
    "        \n",
    "    return ans\n",
    "    "
   ]
  },
  {
   "cell_type": "code",
   "execution_count": 23,
   "metadata": {},
   "outputs": [
    {
     "data": {
      "text/html": [
       "<div>\n",
       "<style scoped>\n",
       "    .dataframe tbody tr th:only-of-type {\n",
       "        vertical-align: middle;\n",
       "    }\n",
       "\n",
       "    .dataframe tbody tr th {\n",
       "        vertical-align: top;\n",
       "    }\n",
       "\n",
       "    .dataframe thead th {\n",
       "        text-align: right;\n",
       "    }\n",
       "</style>\n",
       "<table border=\"1\" class=\"dataframe\">\n",
       "  <thead>\n",
       "    <tr style=\"text-align: right;\">\n",
       "      <th></th>\n",
       "      <th>ваня</th>\n",
       "      <th>вася</th>\n",
       "      <th>виски</th>\n",
       "      <th>идти</th>\n",
       "      <th>кола</th>\n",
       "      <th>любить</th>\n",
       "      <th>магазин</th>\n",
       "      <th>не_сдавать</th>\n",
       "      <th>пиво</th>\n",
       "      <th>сдать</th>\n",
       "      <th>сосед</th>\n",
       "      <th>экзамен</th>\n",
       "    </tr>\n",
       "  </thead>\n",
       "  <tbody>\n",
       "    <tr>\n",
       "      <th>0</th>\n",
       "      <td>0.000000</td>\n",
       "      <td>0.126027</td>\n",
       "      <td>0.0</td>\n",
       "      <td>0.063013</td>\n",
       "      <td>0.063013</td>\n",
       "      <td>0.0</td>\n",
       "      <td>0.063013</td>\n",
       "      <td>0.000000</td>\n",
       "      <td>0.063013</td>\n",
       "      <td>0.063013</td>\n",
       "      <td>0.000000</td>\n",
       "      <td>0.0</td>\n",
       "    </tr>\n",
       "    <tr>\n",
       "      <th>1</th>\n",
       "      <td>0.115525</td>\n",
       "      <td>0.000000</td>\n",
       "      <td>0.0</td>\n",
       "      <td>0.000000</td>\n",
       "      <td>0.000000</td>\n",
       "      <td>0.0</td>\n",
       "      <td>0.000000</td>\n",
       "      <td>0.115525</td>\n",
       "      <td>0.000000</td>\n",
       "      <td>0.000000</td>\n",
       "      <td>0.115525</td>\n",
       "      <td>0.0</td>\n",
       "    </tr>\n",
       "  </tbody>\n",
       "</table>\n",
       "</div>"
      ],
      "text/plain": [
       "       ваня      вася  виски      идти      кола  любить   магазин  \\\n",
       "0  0.000000  0.126027    0.0  0.063013  0.063013     0.0  0.063013   \n",
       "1  0.115525  0.000000    0.0  0.000000  0.000000     0.0  0.000000   \n",
       "\n",
       "   не_сдавать      пиво     сдать     сосед  экзамен  \n",
       "0    0.000000  0.063013  0.063013  0.000000      0.0  \n",
       "1    0.115525  0.000000  0.000000  0.115525      0.0  "
      ]
     },
     "execution_count": 23,
     "metadata": {},
     "output_type": "execute_result"
    }
   ],
   "source": [
    "tfidf_byhand(corpus)"
   ]
  },
  {
   "cell_type": "markdown",
   "metadata": {},
   "source": [
    "Сравним с реализацией из sklearn"
   ]
  },
  {
   "cell_type": "code",
   "execution_count": 24,
   "metadata": {},
   "outputs": [
    {
     "data": {
      "text/html": [
       "<div>\n",
       "<style scoped>\n",
       "    .dataframe tbody tr th:only-of-type {\n",
       "        vertical-align: middle;\n",
       "    }\n",
       "\n",
       "    .dataframe tbody tr th {\n",
       "        vertical-align: top;\n",
       "    }\n",
       "\n",
       "    .dataframe thead th {\n",
       "        text-align: right;\n",
       "    }\n",
       "</style>\n",
       "<table border=\"1\" class=\"dataframe\">\n",
       "  <thead>\n",
       "    <tr style=\"text-align: right;\">\n",
       "      <th></th>\n",
       "      <th>ваня</th>\n",
       "      <th>вася</th>\n",
       "      <th>виски</th>\n",
       "      <th>идти</th>\n",
       "      <th>кола</th>\n",
       "      <th>любить</th>\n",
       "      <th>магазин</th>\n",
       "      <th>не_сдавать</th>\n",
       "      <th>пиво</th>\n",
       "      <th>сдать</th>\n",
       "      <th>сосед</th>\n",
       "      <th>экзамен</th>\n",
       "    </tr>\n",
       "  </thead>\n",
       "  <tbody>\n",
       "    <tr>\n",
       "      <th>0</th>\n",
       "      <td>0.000000</td>\n",
       "      <td>0.576451</td>\n",
       "      <td>0.410150</td>\n",
       "      <td>0.288226</td>\n",
       "      <td>0.288226</td>\n",
       "      <td>0.205075</td>\n",
       "      <td>0.288226</td>\n",
       "      <td>0.000000</td>\n",
       "      <td>0.288226</td>\n",
       "      <td>0.288226</td>\n",
       "      <td>0.000000</td>\n",
       "      <td>0.205075</td>\n",
       "    </tr>\n",
       "    <tr>\n",
       "      <th>1</th>\n",
       "      <td>0.470426</td>\n",
       "      <td>0.000000</td>\n",
       "      <td>0.334712</td>\n",
       "      <td>0.000000</td>\n",
       "      <td>0.000000</td>\n",
       "      <td>0.334712</td>\n",
       "      <td>0.000000</td>\n",
       "      <td>0.470426</td>\n",
       "      <td>0.000000</td>\n",
       "      <td>0.000000</td>\n",
       "      <td>0.470426</td>\n",
       "      <td>0.334712</td>\n",
       "    </tr>\n",
       "  </tbody>\n",
       "</table>\n",
       "</div>"
      ],
      "text/plain": [
       "       ваня      вася     виски      идти      кола    любить   магазин  \\\n",
       "0  0.000000  0.576451  0.410150  0.288226  0.288226  0.205075  0.288226   \n",
       "1  0.470426  0.000000  0.334712  0.000000  0.000000  0.334712  0.000000   \n",
       "\n",
       "   не_сдавать      пиво     сдать     сосед   экзамен  \n",
       "0    0.000000  0.288226  0.288226  0.000000  0.205075  \n",
       "1    0.470426  0.000000  0.000000  0.470426  0.334712  "
      ]
     },
     "execution_count": 24,
     "metadata": {},
     "output_type": "execute_result"
    }
   ],
   "source": [
    "vectorizer = TfidfVectorizer(max_df=1.0, min_df=1)\n",
    "matrix = vectorizer.fit_transform(corpus)\n",
    "pd.DataFrame(matrix.toarray(), columns=vectorizer.get_feature_names())"
   ]
  },
  {
   "cell_type": "markdown",
   "metadata": {},
   "source": [
    "Видим, что результаты несколько иные. 😞 Что ж, это потому, что реализация в sklearn несколько отличается от нашей наивной, в том числе на стадии idf логарифм считается не как $\\log(x)$, а как $\\log(x+1)$. Более подробно можете посмотреть в исходном коде на гитхабе библиотеки sklearn :)"
   ]
  },
  {
   "cell_type": "markdown",
   "metadata": {},
   "source": [
    "А теперь на исходном новостном датасете"
   ]
  },
  {
   "cell_type": "code",
   "execution_count": 25,
   "metadata": {},
   "outputs": [
    {
     "name": "stdout",
     "output_type": "stream",
     "text": [
      "(11314, 243)\n"
     ]
    },
    {
     "data": {
      "text/plain": [
       "array([[0.        , 0.        , 0.        , 0.        , 0.        ,\n",
       "        0.        , 0.        , 0.        , 0.        , 0.        ],\n",
       "       [0.        , 0.        , 0.        , 0.46920784, 0.        ,\n",
       "        0.        , 0.        , 0.        , 0.        , 0.        ],\n",
       "       [0.        , 0.11589139, 0.10595468, 0.        , 0.        ,\n",
       "        0.        , 0.        , 0.        , 0.        , 0.        ],\n",
       "       [0.        , 0.        , 0.        , 0.        , 0.24505395,\n",
       "        0.        , 0.        , 0.        , 0.        , 0.        ],\n",
       "       [0.        , 0.        , 0.        , 0.        , 0.        ,\n",
       "        0.        , 0.        , 0.        , 0.        , 0.24827362]])"
      ]
     },
     "execution_count": 25,
     "metadata": {},
     "output_type": "execute_result"
    }
   ],
   "source": [
    "vectorizer = TfidfVectorizer(max_df=0.95, min_df=0.05, ngram_range=(1, 1))\n",
    "matrix = vectorizer.fit_transform(df['text'])\n",
    "print(matrix.shape)\n",
    "matrix.toarray()[:5, :10]"
   ]
  },
  {
   "cell_type": "markdown",
   "metadata": {},
   "source": [
    "Матрица также получается разреженной.\n",
    "<br>\n",
    "Зачастую подход tf-idf показывает лучше качество, чем BoW, но опять-таки зависит от корпуса документов :)"
   ]
  },
  {
   "cell_type": "markdown",
   "metadata": {},
   "source": [
    "### Word2Vec"
   ]
  },
  {
   "cell_type": "markdown",
   "metadata": {},
   "source": [
    "**Вопрос**: Как можно мерить расстояние между текстами/словами?\n",
    "\n",
    "Одним из популярных способов является косинусная мера: $$\\cos(a, b) = \\frac{<a, b>}{||a||| |b||}$$"
   ]
  },
  {
   "cell_type": "markdown",
   "metadata": {},
   "source": [
    "Как вы могли замететь ранее, что размерности векторов, полученным применением BoW и TF-IDF могут получаться довольно большими, а так же схожие слова типа \"быть\", \"есть\", \"буду\" хоть и имеют для человека схожий смысл, но компьютер пока что не способен их различать.\n",
    "\n",
    "Рассмотрим алгоритм, решающий данные проблемы\n",
    "\n",
    "Word2vec - метод для создания векторного представления слов, основанный на нейросети прямого распространения. Эмбединги могут быть получены на основе одного из двух алгоритмов: Continuous Bag of Words (CBOW) и Skip-gram, - которые \"говорят\" как именно нейросеть должна учиться на данных и запоминать слова.\n",
    "\n",
    "**CBOW** \n",
    "\n",
    "    Предсказание слова при заданном контексте\n",
    "    Так как модель на основе мешка слов, то порядок следования слов не учитывается\n",
    "    Быстрее, чем Skip-gram\n",
    "    Рекомендуемый размер окна - около 5, но опять-таки зависит от корпуса\n",
    "    Обычно предпочтительнее для огромных коллекций (сотни миллионов слов), так как учится быстрее и лучше справляется с частотными словами\n",
    "    \n",
    "    \n",
    "**Skip-gram**\n",
    "\n",
    "    Предсказание контекста при заданном слове\n",
    "    Медленнее, чем CBOW\n",
    "    Рекомендуемый размер окна - около 10, но опять-таки зависит от корпуса\n",
    "    Обычно предпочтительнее для сравнительно небольших коллекций (не более ста миллионов слов), так как работает небыстро и лучше учитывает редкие слова\n",
    "    \n",
    "    \n",
    "Рассмотрим Skip-gram чуть подробнее:\n",
    "\n",
    "**Задача:** представить каждое слово $w$ как вектор $\\vec{w}$ размерности $d$\n",
    "\n",
    "Чтобы найти вектор $\\vec{w}$ надо работать с вероятностями $p(w_i|w_j) = \\frac{\\exp(<\\vec{w_i}, \\vec{w_j}>)}{\\sum_w \\exp(<\\vec{w_i}, \\vec{w_j}>)}$ - вероятность встретить слово $\\vec{w_i}$ в контексте $\\vec{w_j}$\n",
    "\n",
    "Векторы слов настраиваются так, чтобы вероятности встретить слова из одного контекста были высокими. \n",
    "$$\\prod_{i=1}^{n}\\prod_{j=-k}^{k}p(w_{j+i}|w_{i}) \\rightarrow \\max$$ -\n",
    "максимизируем функционал, например, методом градиентного спуска, вероятности встретить слово вместе со $k$ словами до и после, $k$ - параметр, именуемый размером окна.\n",
    "\n",
    "С произведением работать тяжело, поэтому перейдем к логарифмам\n",
    "$$-\\sum_{i=1}^{n}\\sum_{j=-k}^{k}\\log p(w_{j+i}|w_{i}) \\rightarrow \\min$$"
   ]
  },
  {
   "cell_type": "code",
   "execution_count": 26,
   "metadata": {},
   "outputs": [
    {
     "data": {
      "image/png": "[encoded data removed]",
      "text/plain": [
       "<IPython.core.display.Image object>"
      ]
     },
     "execution_count": 26,
     "metadata": {},
     "output_type": "execute_result"
    }
   ],
   "source": [
    "Image(filename='../pictures/cbow_skipgram.png')"
   ]
  },
  {
   "cell_type": "markdown",
   "metadata": {},
   "source": [
    "Как устроен "
   ]
  },
  {
   "cell_type": "markdown",
   "metadata": {},
   "source": [
    "**Свойства векторных представлений, используя w2v**"
   ]
  },
  {
   "cell_type": "markdown",
   "metadata": {},
   "source": [
    "$king−man+woman \\approx queen$,\n",
    "<br>\n",
    "$Moscow − Russia + England \\approx London$"
   ]
  },
  {
   "cell_type": "code",
   "execution_count": 27,
   "metadata": {},
   "outputs": [
    {
     "data": {
      "image/png": "[encoded data removed]",
      "text/plain": [
       "<IPython.core.display.Image object>"
      ]
     },
     "execution_count": 27,
     "metadata": {},
     "output_type": "execute_result"
    }
   ],
   "source": [
    "Image(filename='../pictures/w2v_feature.png')"
   ]
  },
  {
   "cell_type": "markdown",
   "metadata": {},
   "source": [
    "Итак, w2v хорош тем что: \n",
    "\n",
    "    Размерность итогового пространства адекватного размера (например, 300)\n",
    "    Похожие слова имеют близкие векторы (например, по косинусной мере)\n",
    "    Арифметические операции над векторами имеют смысл\n",
    "    \n",
    "Закодировав слова, можно, например, усреднить вектора слов в тексте и получить признак для текста в виде вектора чисел. \n",
    "<br>\n",
    "Можно воспользоваться еще одним подходом: Doc2Vec\n",
    "\n",
    "Есть и другие методы построения эмбедингов для слов: fastText, GloVe и т.д. \n",
    "\n",
    "Также, если исходный корпус не очень большой, то может иметь смысл использование предобученного word2vec или другого инструмента"
   ]
  },
  {
   "cell_type": "code",
   "execution_count": 28,
   "metadata": {},
   "outputs": [],
   "source": [
    "from gensim.models import Word2Vec"
   ]
  },
  {
   "cell_type": "code",
   "execution_count": 29,
   "metadata": {},
   "outputs": [],
   "source": [
    "#на вход требуется список списков\n",
    "matrix_text = [sent.split() for sent in df['text']]"
   ]
  },
  {
   "cell_type": "code",
   "execution_count": 30,
   "metadata": {},
   "outputs": [
    {
     "name": "stdout",
     "output_type": "stream",
     "text": [
      "CPU times: user 1min 6s, sys: 724 ms, total: 1min 7s\n",
      "Wall time: 27.9 s\n"
     ]
    }
   ],
   "source": [
    "%%time\n",
    "#CBOW is used when sg=0\n",
    "w2v = Word2Vec(matrix_text, size=300, sg=0, iter=10, window=5)"
   ]
  },
  {
   "cell_type": "markdown",
   "metadata": {},
   "source": [
    "Как получить вектора слов?\n",
    "\n",
    "Например, так"
   ]
  },
  {
   "cell_type": "code",
   "execution_count": 31,
   "metadata": {},
   "outputs": [
    {
     "data": {
      "text/html": [
       "<div>\n",
       "<style scoped>\n",
       "    .dataframe tbody tr th:only-of-type {\n",
       "        vertical-align: middle;\n",
       "    }\n",
       "\n",
       "    .dataframe tbody tr th {\n",
       "        vertical-align: top;\n",
       "    }\n",
       "\n",
       "    .dataframe thead th {\n",
       "        text-align: right;\n",
       "    }\n",
       "</style>\n",
       "<table border=\"1\" class=\"dataframe\">\n",
       "  <thead>\n",
       "    <tr style=\"text-align: right;\">\n",
       "      <th></th>\n",
       "      <th>0</th>\n",
       "      <th>1</th>\n",
       "      <th>2</th>\n",
       "      <th>3</th>\n",
       "      <th>4</th>\n",
       "      <th>5</th>\n",
       "      <th>6</th>\n",
       "      <th>7</th>\n",
       "      <th>8</th>\n",
       "      <th>9</th>\n",
       "      <th>...</th>\n",
       "      <th>290</th>\n",
       "      <th>291</th>\n",
       "      <th>292</th>\n",
       "      <th>293</th>\n",
       "      <th>294</th>\n",
       "      <th>295</th>\n",
       "      <th>296</th>\n",
       "      <th>297</th>\n",
       "      <th>298</th>\n",
       "      <th>299</th>\n",
       "    </tr>\n",
       "  </thead>\n",
       "  <tbody>\n",
       "    <tr>\n",
       "      <th>thing</th>\n",
       "      <td>-0.056561</td>\n",
       "      <td>-0.771821</td>\n",
       "      <td>0.810121</td>\n",
       "      <td>-1.330348</td>\n",
       "      <td>-0.398776</td>\n",
       "      <td>-0.480172</td>\n",
       "      <td>-0.384065</td>\n",
       "      <td>0.671718</td>\n",
       "      <td>0.888388</td>\n",
       "      <td>-0.263601</td>\n",
       "      <td>...</td>\n",
       "      <td>-0.210451</td>\n",
       "      <td>0.721609</td>\n",
       "      <td>0.357498</td>\n",
       "      <td>0.136027</td>\n",
       "      <td>-0.518950</td>\n",
       "      <td>-0.207504</td>\n",
       "      <td>-0.329028</td>\n",
       "      <td>-0.635810</td>\n",
       "      <td>-0.219439</td>\n",
       "      <td>-0.035653</td>\n",
       "    </tr>\n",
       "    <tr>\n",
       "      <th>subject</th>\n",
       "      <td>-0.380590</td>\n",
       "      <td>0.248312</td>\n",
       "      <td>-0.056335</td>\n",
       "      <td>0.103231</td>\n",
       "      <td>-0.315889</td>\n",
       "      <td>0.587460</td>\n",
       "      <td>0.378488</td>\n",
       "      <td>-0.176963</td>\n",
       "      <td>0.530502</td>\n",
       "      <td>0.565196</td>\n",
       "      <td>...</td>\n",
       "      <td>-0.713642</td>\n",
       "      <td>-1.496257</td>\n",
       "      <td>1.156293</td>\n",
       "      <td>-0.581768</td>\n",
       "      <td>0.274935</td>\n",
       "      <td>0.544512</td>\n",
       "      <td>1.108741</td>\n",
       "      <td>0.901163</td>\n",
       "      <td>0.812924</td>\n",
       "      <td>0.583666</td>\n",
       "    </tr>\n",
       "    <tr>\n",
       "      <th>car</th>\n",
       "      <td>-0.092881</td>\n",
       "      <td>-1.549495</td>\n",
       "      <td>1.577089</td>\n",
       "      <td>0.362244</td>\n",
       "      <td>0.034425</td>\n",
       "      <td>-0.146092</td>\n",
       "      <td>0.211575</td>\n",
       "      <td>0.125904</td>\n",
       "      <td>-0.885757</td>\n",
       "      <td>-0.615963</td>\n",
       "      <td>...</td>\n",
       "      <td>-0.173660</td>\n",
       "      <td>1.841668</td>\n",
       "      <td>0.113268</td>\n",
       "      <td>0.353139</td>\n",
       "      <td>0.800494</td>\n",
       "      <td>-0.842161</td>\n",
       "      <td>-0.848483</td>\n",
       "      <td>-1.167874</td>\n",
       "      <td>1.081360</td>\n",
       "      <td>-2.485096</td>\n",
       "    </tr>\n",
       "    <tr>\n",
       "      <th>nntp</th>\n",
       "      <td>-1.945381</td>\n",
       "      <td>-0.016731</td>\n",
       "      <td>-0.515212</td>\n",
       "      <td>-0.381340</td>\n",
       "      <td>-0.328226</td>\n",
       "      <td>1.056995</td>\n",
       "      <td>0.480565</td>\n",
       "      <td>0.451107</td>\n",
       "      <td>0.442598</td>\n",
       "      <td>-0.864178</td>\n",
       "      <td>...</td>\n",
       "      <td>-0.867760</td>\n",
       "      <td>-1.257028</td>\n",
       "      <td>1.526829</td>\n",
       "      <td>-0.528549</td>\n",
       "      <td>1.723779</td>\n",
       "      <td>0.543006</td>\n",
       "      <td>1.093638</td>\n",
       "      <td>2.849077</td>\n",
       "      <td>-0.436658</td>\n",
       "      <td>1.580794</td>\n",
       "    </tr>\n",
       "    <tr>\n",
       "      <th>post</th>\n",
       "      <td>-0.043223</td>\n",
       "      <td>0.642971</td>\n",
       "      <td>0.779384</td>\n",
       "      <td>1.637498</td>\n",
       "      <td>-0.463230</td>\n",
       "      <td>-0.030975</td>\n",
       "      <td>-0.487343</td>\n",
       "      <td>1.078427</td>\n",
       "      <td>0.405341</td>\n",
       "      <td>1.649828</td>\n",
       "      <td>...</td>\n",
       "      <td>-0.937859</td>\n",
       "      <td>-0.838444</td>\n",
       "      <td>0.587550</td>\n",
       "      <td>0.820825</td>\n",
       "      <td>-0.133823</td>\n",
       "      <td>-0.011095</td>\n",
       "      <td>0.114915</td>\n",
       "      <td>0.876410</td>\n",
       "      <td>0.909367</td>\n",
       "      <td>0.629389</td>\n",
       "    </tr>\n",
       "  </tbody>\n",
       "</table>\n",
       "<p>5 rows × 300 columns</p>\n",
       "</div>"
      ],
      "text/plain": [
       "              0         1         2         3         4         5         6    \\\n",
       "thing   -0.056561 -0.771821  0.810121 -1.330348 -0.398776 -0.480172 -0.384065   \n",
       "subject -0.380590  0.248312 -0.056335  0.103231 -0.315889  0.587460  0.378488   \n",
       "car     -0.092881 -1.549495  1.577089  0.362244  0.034425 -0.146092  0.211575   \n",
       "nntp    -1.945381 -0.016731 -0.515212 -0.381340 -0.328226  1.056995  0.480565   \n",
       "post    -0.043223  0.642971  0.779384  1.637498 -0.463230 -0.030975 -0.487343   \n",
       "\n",
       "              7         8         9    ...       290       291       292  \\\n",
       "thing    0.671718  0.888388 -0.263601  ... -0.210451  0.721609  0.357498   \n",
       "subject -0.176963  0.530502  0.565196  ... -0.713642 -1.496257  1.156293   \n",
       "car      0.125904 -0.885757 -0.615963  ... -0.173660  1.841668  0.113268   \n",
       "nntp     0.451107  0.442598 -0.864178  ... -0.867760 -1.257028  1.526829   \n",
       "post     1.078427  0.405341  1.649828  ... -0.937859 -0.838444  0.587550   \n",
       "\n",
       "              293       294       295       296       297       298       299  \n",
       "thing    0.136027 -0.518950 -0.207504 -0.329028 -0.635810 -0.219439 -0.035653  \n",
       "subject -0.581768  0.274935  0.544512  1.108741  0.901163  0.812924  0.583666  \n",
       "car      0.353139  0.800494 -0.842161 -0.848483 -1.167874  1.081360 -2.485096  \n",
       "nntp    -0.528549  1.723779  0.543006  1.093638  2.849077 -0.436658  1.580794  \n",
       "post     0.820825 -0.133823 -0.011095  0.114915  0.876410  0.909367  0.629389  \n",
       "\n",
       "[5 rows x 300 columns]"
      ]
     },
     "execution_count": 31,
     "metadata": {},
     "output_type": "execute_result"
    }
   ],
   "source": [
    "d = dict(zip(w2v.wv.vocab.keys(), [w2v.wv[word] for word in w2v.wv.vocab.keys()]))\n",
    "pd.DataFrame.from_dict(d, orient='index').head()"
   ]
  },
  {
   "cell_type": "markdown",
   "metadata": {},
   "source": [
    "Или так"
   ]
  },
  {
   "cell_type": "code",
   "execution_count": 32,
   "metadata": {},
   "outputs": [
    {
     "data": {
      "text/plain": [
       "array([[-0.5792944 ,  0.31675482, -0.6710672 , ...,  1.839124  ,\n",
       "         0.6490477 ,  1.236788  ],\n",
       "       [-1.2879063 ,  0.13882412, -0.04367219, ...,  1.5973066 ,\n",
       "         0.19251847,  0.5146254 ],\n",
       "       [-0.18611285,  0.7607924 , -0.00802266, ..., -0.46297175,\n",
       "         0.86160696, -0.8805158 ],\n",
       "       ...,\n",
       "       [ 0.0490036 ,  0.04910605, -0.07471377, ...,  0.04232475,\n",
       "        -0.03806246, -0.01332784],\n",
       "       [-0.03180143, -0.00366   , -0.01376142, ..., -0.00649988,\n",
       "         0.00224581,  0.00350112],\n",
       "       [-0.02596674, -0.02523165,  0.01694108, ..., -0.00701116,\n",
       "        -0.10539301, -0.1005647 ]], dtype=float32)"
      ]
     },
     "execution_count": 32,
     "metadata": {},
     "output_type": "execute_result"
    }
   ],
   "source": [
    "w2v.wv.vectors"
   ]
  },
  {
   "cell_type": "markdown",
   "metadata": {},
   "source": [
    "Посмотрим на некоторые методы:"
   ]
  },
  {
   "cell_type": "code",
   "execution_count": 33,
   "metadata": {},
   "outputs": [
    {
     "data": {
      "text/plain": [
       "[('mustang', 0.7103008031845093),\n",
       " ('dealership', 0.7098215818405151),\n",
       " ('coupe', 0.6889940500259399),\n",
       " ('tire', 0.6697652339935303),\n",
       " ('sedan', 0.6672455072402954),\n",
       " ('luxury', 0.6656215786933899),\n",
       " ('automobile', 0.6571016311645508),\n",
       " ('volvo', 0.6513499021530151),\n",
       " ('bike', 0.6463595032691956),\n",
       " ('van', 0.6389881372451782)]"
      ]
     },
     "execution_count": 33,
     "metadata": {},
     "output_type": "execute_result"
    }
   ],
   "source": [
    "w2v.wv.most_similar(['car'])"
   ]
  },
  {
   "cell_type": "code",
   "execution_count": 34,
   "metadata": {},
   "outputs": [
    {
     "data": {
      "text/plain": [
       "[('female', 0.8724880218505859),\n",
       " ('intercourse', 0.7616230845451355),\n",
       " ('homosexual', 0.7406039237976074),\n",
       " ('promiscuous', 0.7351760268211365),\n",
       " ('heterosexual', 0.7233519554138184),\n",
       " ('gay', 0.714775800704956),\n",
       " ('proportion', 0.6969522833824158),\n",
       " ('bisexual', 0.6874676942825317),\n",
       " ('dramatically', 0.6836583018302917),\n",
       " ('aryan', 0.6743773818016052)]"
      ]
     },
     "execution_count": 34,
     "metadata": {},
     "output_type": "execute_result"
    }
   ],
   "source": [
    "w2v.wv.most_similar(['male'])"
   ]
  },
  {
   "cell_type": "code",
   "execution_count": 35,
   "metadata": {},
   "outputs": [
    {
     "data": {
      "text/plain": [
       "0.76745987"
      ]
     },
     "execution_count": 35,
     "metadata": {},
     "output_type": "execute_result"
    }
   ],
   "source": [
    "w2v.wv.similarity('woman','man')"
   ]
  },
  {
   "cell_type": "code",
   "execution_count": 36,
   "metadata": {},
   "outputs": [
    {
     "name": "stderr",
     "output_type": "stream",
     "text": [
      "/opt/anaconda3/lib/python3.7/site-packages/gensim/models/keyedvectors.py:877: FutureWarning: arrays to stack must be passed as a \"sequence\" type such as list or tuple. Support for non-sequence iterables such as generators is deprecated as of NumPy 1.16 and will raise an error in the future.\n",
      "  vectors = vstack(self.word_vec(word, use_norm=True) for word in used_words).astype(REAL)\n"
     ]
    },
    {
     "data": {
      "text/plain": [
       "'car'"
      ]
     },
     "execution_count": 36,
     "metadata": {},
     "output_type": "execute_result"
    }
   ],
   "source": [
    "w2v.wv.doesnt_match(['man', 'women', 'car', 'person', 'people', 'male'])"
   ]
  },
  {
   "cell_type": "markdown",
   "metadata": {},
   "source": [
    "## Тематическоe моделирование"
   ]
  },
  {
   "cell_type": "markdown",
   "metadata": {},
   "source": [
    "**Цели тематического моделирования:**\n",
    "\n",
    "   * Классификация и категоризация документов. Пусть у нас есть большая коллекция текстовых документов и мы хотим разложить их по темам, тематическое моделирование обладает особенностью, что позволяет отнсти документ сразу к нескольким темам \n",
    "   * Автоматическое аннотирование документов. Можно выделить в документе наиболее важные фразы и составить на их основе аннотацию.\n",
    "   * Тематическая сегментация документов - разбиение большого документа на фрагменты и определение темы каждого из них\n",
    "    \n",
    "    Таким образом, например, можно обработать тысячи статей википедии и при помощи тематического моделирования выделить темы, позволяющие понимать о чем та или иная статья\n",
    "    \n",
    "**Пример использования**:\n",
    "\n",
    "Тематизация википедии 216175 русско-английских пар статей, собрано 400 тем.\n",
    "<br>\n",
    "Независимый эксперт оценил 396 тем как хорошо интерпретируемые"
   ]
  },
  {
   "cell_type": "code",
   "execution_count": 37,
   "metadata": {},
   "outputs": [
    {
     "data": {
      "image/png": "[encoded data removed]",
      "text/plain": [
       "<IPython.core.display.Image object>"
      ]
     },
     "execution_count": 37,
     "metadata": {},
     "output_type": "execute_result"
    }
   ],
   "source": [
    "Image(filename='../pictures/topic_modeling_example.png')"
   ]
  },
  {
   "cell_type": "markdown",
   "metadata": {},
   "source": [
    "**Тематическая модель** — модель коллекции текстовых документов, которая определяет, к каким темам относится каждый документ коллекции. \n",
    "\n",
    "**Тема** — набор терминов, то есть слов или словосочетаний, которые совместно часто встречаются в документах\n",
    "\n",
    "Тема является интерпретируемой, если по топовым словам (см. выше, например, топ-10 слов), эксперты способны определить о чем данная тема, дать ей название и оценить интерпретируемость по некоторой балльной шкале\n",
    "\n",
    "Формализуем:\n",
    "\n",
    "**тема** - условное распределение на множетве терминов,\n",
    "<br>\n",
    "$p(w|t)$ - вероятность термина $w$ в теме $t$, или из каких терминов состоит каждая тема\n",
    "\n",
    "**тематический профиль документа (тематика документа)** - из каких тем состоит документ, или условное распределение\n",
    "<br>\n",
    "$p(t|d)$ - вероятность темы $t$ в документе $d$, появляется ввиду того, что документ может относится к нескольким темам\n",
    "\n",
    "Вероятность здесь эквивалентна частоте.\n",
    "\n",
    "Тематическая модель должна автоматически выявлять латентные (скрытые) темы по наблюдаемым частотам терминов в документе $p(w|d)$\n",
    "\n",
    "\n",
    "\n",
    "**Пусть** (базовые предположения простых тематических моделей)\n",
    "\n",
    "   * Допускается гипотеза условной независимости: $p(w|d, t) = p(w|t)$ - вероятность слова в документе определяется только темой, а не документом\n",
    "   * Порядок документов в коллекции не важен\n",
    "   * Порядоктерминов в документе не важен (гипотеза \"мешка слов\")\n",
    "   * Употребление каждого слова в каждом документе связано с некоторой темой\n",
    "   \n",
    "*Бывает выделяют еще дополнительные предположения:*\n",
    "\n",
    "   * Каждый документ $d$ и каждый термин $w$ связан с небольшим числом тем (гипотеза разреженности)\n",
    "   * Тема $t$ состоит из небольшого числа терминов $w$, отличающих эту тему существенно от остальных\n",
    "   \n",
    "   <br>\n",
    "   $W$ - словарь терминов\n",
    "   <br>\n",
    "   $T$ - конечное множество тем\n",
    "   <br>\n",
    "   $D$ - конечное множество документов\n",
    "\n",
    "Задается тематическая вероятностная модель на множестве документов $D$, описывающая вероятность появления слова $w$ в документе $d$ с темами $t$\n",
    "\n",
    "$$p(w|d) = \\sum_{t \\in T}p(w|t)p(t|d)$$\n",
    "\n",
    "------------------------------------------------------------------------------------------------------------------\n",
    "\n",
    "**Прямая задача**: Порождение коллекции документов по $p(w|t)$ и $p(t|d)$\n",
    "\n",
    "**Дано**: \n",
    "\n",
    "   * распределение $p(w|t)$ для каждой темы $t \\in T$\n",
    "   * распределение $p(t|d)$ для каждого документа $d \\in D$\n",
    "   \n",
    "**Делаем**:\n",
    "\n",
    "   * для всех $d \\in D$:\n",
    "       задаем длину $n_d$ документа $d$\n",
    "       * для всех $i = 1..n_d$:\n",
    "           * сгенерировать тему (выбрать случайную) $t_i$ из $p(t|d)$\n",
    "           * сгенерировать термин (выбрать случайный) $w_i$ из $p(w|t_i)$\n",
    "           * добавить в выборку пару $(d, w_i)$, при этом забывая тему $t$\n",
    "           \n",
    "**Получаем**:\n",
    "\n",
    "    Коллекцию текстовых документов - выборка пар $(d_i, w_i)$, $i=1...n$\n",
    "    \n",
    "------------------------------------------------------------------------------------------------------------------\n",
    "\n",
    "**Обратная задача**: восстановление $p(w|t)p(t|d)$ по имеющейся коллекции текстовых документов\n",
    "\n",
    "\n",
    "**Дано:**\n",
    "<br>\n",
    "$\\hat{p}(w|d) = \\frac{n_{dw}}{n_d}, n_{dw} - $ количество вхождений слова $w$ в документ $d$, $n_d$ - длина документа\n",
    "\n",
    "**Найти:** параметры тематической модели $\\phi_{wt}=p(w|t), \\theta_{td}=p(t|d)$, то есть по наблюдаемой коллекции необходимо понять, какими распределениями $\\phi_{wt}, \\theta_{td}$ она могла бы быть получена\n",
    "\n",
    "**Получили:** задачу стохастического матричного разложения\n",
    "<br>\n",
    "Матрицы называются стохастическими, если каждый их столбец преставляет собой дискретное распределение верояностей, а ,следовательно, сумма значений по каждому столбцу равна 1 (условие нормировки) и каждое значение является неотрицательным (условие неотрицательности)\n",
    "\n",
    "$\\Phi = (\\phi_{wt})$ - матрица распределений терминов в темах $\\Theta = (\\theta_{td})$ - матрица распределений тем в документах.\n",
    "\n",
    "Но задача некорректно поставлена, потому что ее решение, вообще говоря, не единственно: $\\Phi \\Theta = (\\Phi \\Sigma)(\\Sigma^{-1} \\Theta) = \\Phi^{'} \\Theta^{'}$\n",
    "\n",
    "**Решение:**\n",
    "\n",
    "Пользуемся принципом максимума правдоподобия с ограничениями, полученными на основе того, что матрицы стохастические.\n",
    "\n",
    "$$\\sum_{d \\in D}\\sum_{w \\in d}n_{dw} \\ln \\sum_{t \\in T} \\phi_{wt} \\theta_{td} \\rightarrow \\max_{\\Phi \\Theta}$$\n",
    "при условиях\n",
    "$$\\sum_{w \\in W}\\phi_{wt} = 1, \\sum_{t \\in T}\\phi_{td} = 1, \\phi_{wt} \\geq 0, \\theta_{td} \\geq 0$$\n",
    "\n",
    "Некорректность исходной задачи позволяет вводить дополнительный ограничения на матрицы $\\Phi$ и $\\Theta$, которые принято называть регуляризаторами. Таким образом, чтобы выбрать наиболее подходящее решение, вводится регуляризатор $R(\\Phi, \\Theta)$ - некоторый функционал, построенный из определенных соображений под задачу.\n",
    "<br>\n",
    "В итоге максимизируется не просто логарифм правдоподобия, а $$\\sum_{d \\in D}\\sum_{w \\in d}n_{dw} \\ln \\sum_{t \\in T} \\phi_{wt} \\theta_{td} + R(\\Phi, \\Theta) \\rightarrow \\max_{\\Phi \\Theta}$$\n",
    "(с теми же ограничениями)\n",
    "\n",
    "Матрицы $\\Phi$ и $\\Theta$ могут быть эффективно вычислены с помощью итеративного EM-алгоритма."
   ]
  },
  {
   "cell_type": "markdown",
   "metadata": {},
   "source": [
    "Два самых известных частных случая данной системы уравнения: PLSA, LDA\n",
    "\n",
    "**PLSA (вероятностный латентный семантический анализ)**: $$R(\\Phi, \\Theta) = 0$$\n",
    "\n",
    "Основные недостатки PLSA:\n",
    "\n",
    "1. Число параметров растёт линейно по числу документов в коллекции, что может приводить к переобучению модели.\n",
    "<br>\n",
    "2. При добавлении нового документа $d$ в коллекцию распределение $p(t|d)$ невозможно вычислить по тем же формулам, что и для остальных документов, не перестраивая всю модель заново.\n",
    "\n",
    "**LDA (латентное размещение Дирихле)**: $$R(\\Phi, \\Theta) = \\sum_{t,w}(\\beta_w - 1)\\ln\\phi_{wt} + \\sum_{d, t}(\\alpha_t - 1)\\ln\\theta_{td},$$\n",
    "где $\\alpha_t$ > 0, $\\beta_w$ > 0 - параметры регуляризатора\n",
    "\n",
    "LDA - одна из наиболее популярных моделей тематического моделирования (не путать с linear discriminant analysis :) ), в ней устранены основные недостатки PLSA"
   ]
  },
  {
   "cell_type": "markdown",
   "metadata": {},
   "source": [
    "\"Аккуратно\" проверить, как дела обстоят с данными: стоит ли их дообработать, в порядке ли они, можно с помощью отображения наиболее частых слов"
   ]
  },
  {
   "cell_type": "code",
   "execution_count": 38,
   "metadata": {},
   "outputs": [],
   "source": [
    "from wordcloud import WordCloud"
   ]
  },
  {
   "cell_type": "code",
   "execution_count": 39,
   "metadata": {},
   "outputs": [
    {
     "data": {
      "image/png": "[encoded data removed]",
      "text/plain": [
       "<PIL.Image.Image image mode=RGB size=400x200 at 0x1A3BDB6E10>"
      ]
     },
     "execution_count": 39,
     "metadata": {},
     "output_type": "execute_result"
    }
   ],
   "source": [
    "data = df['text'].to_list()\n",
    "\n",
    "long_string = ','.join(data)\n",
    "\n",
    "# Create a WordCloud object\n",
    "wordcloud = WordCloud(background_color=\"white\", max_words=1000, contour_width=3, contour_color='steelblue')\n",
    "\n",
    "# Generate a word cloud\n",
    "wordcloud.generate(long_string)\n",
    "\n",
    "# Visualize the word cloud\n",
    "wordcloud.to_image()"
   ]
  },
  {
   "cell_type": "markdown",
   "metadata": {},
   "source": [
    "**LDA пример**"
   ]
  },
  {
   "cell_type": "code",
   "execution_count": 40,
   "metadata": {},
   "outputs": [],
   "source": [
    "import gensim\n",
    "import gensim.corpora as corpora\n",
    "from gensim.models import CoherenceModel\n",
    "\n",
    "import pyLDAvis\n",
    "import pyLDAvis.gensim #don't skip\n",
    "import matplotlib.pyplot as plt\n",
    "%matplotlib inline"
   ]
  },
  {
   "cell_type": "code",
   "execution_count": 41,
   "metadata": {},
   "outputs": [
    {
     "data": {
      "text/html": [
       "<div>\n",
       "<style scoped>\n",
       "    .dataframe tbody tr th:only-of-type {\n",
       "        vertical-align: middle;\n",
       "    }\n",
       "\n",
       "    .dataframe tbody tr th {\n",
       "        vertical-align: top;\n",
       "    }\n",
       "\n",
       "    .dataframe thead th {\n",
       "        text-align: right;\n",
       "    }\n",
       "</style>\n",
       "<table border=\"1\" class=\"dataframe\">\n",
       "  <thead>\n",
       "    <tr style=\"text-align: right;\">\n",
       "      <th></th>\n",
       "      <th>text</th>\n",
       "      <th>target</th>\n",
       "      <th>target_names</th>\n",
       "    </tr>\n",
       "  </thead>\n",
       "  <tbody>\n",
       "    <tr>\n",
       "      <th>0</th>\n",
       "      <td>thing subject car nntp post host line wonder c...</td>\n",
       "      <td>7</td>\n",
       "      <td>rec.autos</td>\n",
       "    </tr>\n",
       "    <tr>\n",
       "      <th>1</th>\n",
       "      <td>poll final summary final call clock report key...</td>\n",
       "      <td>4</td>\n",
       "      <td>comp.sys.mac.hardware</td>\n",
       "    </tr>\n",
       "    <tr>\n",
       "      <th>2</th>\n",
       "      <td>subject question computer network distribution...</td>\n",
       "      <td>4</td>\n",
       "      <td>comp.sys.mac.hardware</td>\n",
       "    </tr>\n",
       "  </tbody>\n",
       "</table>\n",
       "</div>"
      ],
      "text/plain": [
       "                                                text  target  \\\n",
       "0  thing subject car nntp post host line wonder c...       7   \n",
       "1  poll final summary final call clock report key...       4   \n",
       "2  subject question computer network distribution...       4   \n",
       "\n",
       "            target_names  \n",
       "0              rec.autos  \n",
       "1  comp.sys.mac.hardware  \n",
       "2  comp.sys.mac.hardware  "
      ]
     },
     "execution_count": 41,
     "metadata": {},
     "output_type": "execute_result"
    }
   ],
   "source": [
    "df.head(3)"
   ]
  },
  {
   "cell_type": "code",
   "execution_count": 42,
   "metadata": {},
   "outputs": [],
   "source": [
    "data_words = [d.split() for d in data]"
   ]
  },
  {
   "cell_type": "code",
   "execution_count": 43,
   "metadata": {},
   "outputs": [],
   "source": [
    "#создадим биграмы\n",
    "bigram = gensim.models.Phrases(data_words, min_count=5, threshold=50)\n",
    "bigram_mod = gensim.models.phrases.Phraser(bigram)"
   ]
  },
  {
   "cell_type": "code",
   "execution_count": 44,
   "metadata": {},
   "outputs": [],
   "source": [
    "#сделаем биграмы\n",
    "data_words = [bigram_mod[doc] for doc in data_words]"
   ]
  },
  {
   "cell_type": "code",
   "execution_count": 45,
   "metadata": {},
   "outputs": [
    {
     "name": "stdout",
     "output_type": "stream",
     "text": [
      "['poll', 'final', 'summary', 'final', 'call', 'clock', 'report', 'keyword', 'acceleration', 'clock', 'upgrade', 'article', 'line', 'post_host', 'fair', 'number', 'brave', 'soul', 'upgrade', 'clock_oscillator', 'share', 'experience', 'poll', 'send', 'brief', 'message', 'detail', 'experience', 'procedure', 'top', 'speed', 'attain', 'rated', 'speed', 'add', 'card', 'adapter', 'heat_sink', 'hour', 'usage', 'day', 'floppy_disk', 'functionality', 'floppy', 'especially', 'request', 'summarize', 'next', 'day', 'add', 'network', 'knowledge', 'base', 'clock', 'upgrade', 'answer', 'poll', 'thank']\n"
     ]
    }
   ],
   "source": [
    "print(data_words[1])"
   ]
  },
  {
   "cell_type": "markdown",
   "metadata": {},
   "source": [
    "Приближаемся непосредственно к LDA"
   ]
  },
  {
   "cell_type": "code",
   "execution_count": 46,
   "metadata": {},
   "outputs": [],
   "source": [
    "#объявим два основных параметра LDA\n",
    "#словарь\n",
    "id2word = corpora.Dictionary(data_words)\n",
    "#и перейдем к частоте терминов в документе\n",
    "corpus = [id2word.doc2bow(text) for text in data_words]"
   ]
  },
  {
   "cell_type": "code",
   "execution_count": 47,
   "metadata": {},
   "outputs": [
    {
     "name": "stdout",
     "output_type": "stream",
     "text": [
      "[(0, 1), (1, 1), (2, 1), (3, 1), (4, 1), (5, 5), (6, 1), (7, 1), (8, 2), (9, 1), (10, 1), (11, 1), (12, 1), (13, 1), (14, 1), (15, 1), (16, 1), (17, 1), (18, 1), (19, 1), (20, 1), (21, 2), (22, 1), (23, 1), (24, 1), (25, 1), (26, 1), (27, 1), (28, 1), (29, 1), (30, 1), (31, 1), (32, 1), (33, 1), (34, 1), (35, 1), (36, 1), (37, 1), (38, 1), (39, 1), (40, 1), (41, 1)]\n"
     ]
    }
   ],
   "source": [
    "print(corpus[0])"
   ]
  },
  {
   "cell_type": "markdown",
   "metadata": {},
   "source": [
    "Не очень понятно...\n",
    "<br>\n",
    "Но, вообще говоря, каждый tuple представляет собой id слова и количество раз, которое оно встретилось в $i$-м документе\n",
    "<br>\n",
    "Посмотрим в более читабельном виде:"
   ]
  },
  {
   "cell_type": "code",
   "execution_count": 48,
   "metadata": {},
   "outputs": [
    {
     "name": "stdout",
     "output_type": "stream",
     "text": [
      "[[('addition', 1), ('body', 1), ('bricklin', 1), ('bring', 1), ('call', 1), ('car', 5), ('could', 1), ('day', 1), ('door', 2), ('early', 1), ('engine', 1), ('enlighten', 1), ('front_bumper', 1), ('funky', 1), ('history', 1), ('host', 1), ('info', 1), ('know', 1), ('late', 1), ('lerxst', 1), ('line', 1), ('look', 2), ('mail', 1), ('make', 1), ('model', 1), ('name', 1), ('neighborhood', 1), ('nntp_post', 1), ('production', 1), ('really', 1), ('rest', 1), ('see', 1), ('separate', 1), ('small', 1), ('spec', 1), ('sport', 1), ('subject', 1), ('tellme', 1), ('thank', 1), ('thing', 1), ('wonder', 1), ('year', 1)]]\n"
     ]
    }
   ],
   "source": [
    "print([[(id2word[idd], cnt) for idd, cnt in pair] for pair in corpus[:1]])"
   ]
  },
  {
   "cell_type": "markdown",
   "metadata": {},
   "source": [
    "Теперь лучше\n",
    "<br>\n",
    "Построим модель"
   ]
  },
  {
   "cell_type": "code",
   "execution_count": 49,
   "metadata": {},
   "outputs": [
    {
     "name": "stdout",
     "output_type": "stream",
     "text": [
      "CPU times: user 3min 57s, sys: 22.6 s, total: 4min 19s\n",
      "Wall time: 2min 44s\n"
     ]
    }
   ],
   "source": [
    "%%time\n",
    "lda_model = gensim.models.ldamodel.LdaModel(corpus=corpus,\n",
    "                                            id2word=id2word,\n",
    "                                            num_topics=20, #это нам известно, так как 20 новостных групп \n",
    "                                            random_state=SEED,\n",
    "                                            update_every=1,\n",
    "                                            chunksize=100,\n",
    "                                            passes=10,\n",
    "                                            alpha='auto',\n",
    "                                            per_word_topics=True)"
   ]
  },
  {
   "cell_type": "code",
   "execution_count": 50,
   "metadata": {},
   "outputs": [
    {
     "data": {
      "text/plain": [
       "[(0,\n",
       "  '0.134*\"team\" + 0.126*\"game\" + 0.099*\"play\" + 0.041*\"division\" + 0.038*\"score\" + 0.032*\"family\" + 0.027*\"wing\" + 0.021*\"baseball\" + 0.021*\"terrorism\" + 0.015*\"ice\"'),\n",
       " (1,\n",
       "  '0.078*\"space\" + 0.022*\"launch\" + 0.022*\"earth\" + 0.022*\"moon\" + 0.021*\"orbit\" + 0.019*\"mission\" + 0.019*\"digital\" + 0.019*\"technical\" + 0.019*\"edge\" + 0.016*\"satellite\"'),\n",
       " (2,\n",
       "  '0.094*\"player\" + 0.065*\"screen\" + 0.062*\"video\" + 0.061*\"display\" + 0.053*\"input\" + 0.052*\"monitor\" + 0.050*\"character\" + 0.037*\"internal\" + 0.026*\"font\" + 0.023*\"output\"'),\n",
       " (3,\n",
       "  '0.057*\"line\" + 0.044*\"write\" + 0.028*\"article\" + 0.024*\"subject\" + 0.018*\"get\" + 0.018*\"good\" + 0.014*\"host\" + 0.013*\"look\" + 0.013*\"would\" + 0.013*\"need\"'),\n",
       " (4,\n",
       "  '0.205*\"gun\" + 0.080*\"scsi\" + 0.059*\"weapon\" + 0.053*\"firearm\" + 0.027*\"dept\" + 0.026*\"motherboard\" + 0.026*\"crime\" + 0.025*\"violence\" + 0.020*\"gun_control\" + 0.017*\"shoot\"'),\n",
       " (5,\n",
       "  '0.054*\"shall\" + 0.054*\"nature\" + 0.046*\"route\" + 0.031*\"event\" + 0.030*\"rider\" + 0.030*\"dog\" + 0.025*\"observation\" + 0.025*\"boy\" + 0.021*\"widget\" + 0.020*\"wave\"'),\n",
       " (6,\n",
       "  '0.037*\"die\" + 0.036*\"kill\" + 0.030*\"war\" + 0.021*\"village\" + 0.021*\"soldier\" + 0.021*\"jewish\" + 0.020*\"death\" + 0.020*\"attack\" + 0.016*\"greek\" + 0.016*\"people\"'),\n",
       " (7,\n",
       "  '0.071*\"science\" + 0.063*\"patient\" + 0.059*\"year\" + 0.049*\"season\" + 0.040*\"goal\" + 0.039*\"fan\" + 0.033*\"trade\" + 0.029*\"disease\" + 0.028*\"age\" + 0.027*\"pen\"'),\n",
       " (8,\n",
       "  '0.084*\"physical\" + 0.080*\"entry\" + 0.044*\"self\" + 0.035*\"direct\" + 0.027*\"hot\" + 0.021*\"blind\" + 0.020*\"cool\" + 0.019*\"period\" + 0.019*\"water\" + 0.019*\"cycle\"'),\n",
       " (9,\n",
       "  '0.083*\"evidence\" + 0.041*\"faith\" + 0.040*\"believe\" + 0.038*\"reason\" + 0.033*\"god\" + 0.033*\"christian\" + 0.031*\"religion\" + 0.029*\"sense\" + 0.027*\"belief\" + 0.027*\"exist\"'),\n",
       " (10,\n",
       "  '0.057*\"college\" + 0.049*\"canadian\" + 0.045*\"pattern\" + 0.032*\"mailing_list\" + 0.023*\"stuff_delete\" + 0.011*\"recognition\" + 0.008*\"contemporary\" + 0.007*\"encompass\" + 0.007*\"rushdie\" + 0.006*\"yet_rushdie\"'),\n",
       " (11,\n",
       "  '0.058*\"use\" + 0.029*\"system\" + 0.018*\"program\" + 0.017*\"file\" + 0.016*\"key\" + 0.015*\"include\" + 0.014*\"information\" + 0.012*\"chip\" + 0.011*\"bit\" + 0.011*\"source\"'),\n",
       " (12,\n",
       "  '0.076*\"drive\" + 0.059*\"window\" + 0.051*\"problem\" + 0.049*\"card\" + 0.036*\"machine\" + 0.028*\"memory\" + 0.028*\"cpu\" + 0.025*\"run\" + 0.021*\"com\" + 0.020*\"instal\"'),\n",
       " (13,\n",
       "  '0.104*\"copy\" + 0.082*\"book\" + 0.066*\"server\" + 0.052*\"faq\" + 0.039*\"mail\" + 0.037*\"trust\" + 0.036*\"update\" + 0.030*\"list\" + 0.028*\"announcement\" + 0.024*\"text\"'),\n",
       " (14,\n",
       "  '0.060*\"car\" + 0.027*\"rate\" + 0.023*\"bike\" + 0.023*\"fast\" + 0.022*\"slow\" + 0.021*\"speed\" + 0.021*\"drive\" + 0.020*\"pin\" + 0.018*\"light\" + 0.016*\"engine\"'),\n",
       " (15,\n",
       "  '0.105*\"graphic\" + 0.099*\"drug\" + 0.055*\"doctor\" + 0.052*\"son\" + 0.041*\"father\" + 0.037*\"cap\" + 0.031*\"blood\" + 0.019*\"diet\" + 0.016*\"warning\" + 0.014*\"bury\"'),\n",
       " (16,\n",
       "  '0.034*\"state\" + 0.026*\"right\" + 0.025*\"government\" + 0.019*\"issue\" + 0.016*\"law\" + 0.015*\"public\" + 0.014*\"case\" + 0.011*\"control\" + 0.010*\"report\" + 0.010*\"force\"'),\n",
       " (17,\n",
       "  '0.024*\"would\" + 0.023*\"say\" + 0.019*\"think\" + 0.019*\"people\" + 0.018*\"make\" + 0.016*\"see\" + 0.015*\"may\" + 0.015*\"know\" + 0.012*\"time\" + 0.012*\"thing\"'),\n",
       " (18,\n",
       "  '0.137*\"driver\" + 0.106*\"color\" + 0.061*\"scan\" + 0.043*\"upgrade\" + 0.040*\"cable\" + 0.032*\"hook\" + 0.031*\"battery\" + 0.027*\"task\" + 0.022*\"power_supply\" + 0.021*\"floppy\"'),\n",
       " (19,\n",
       "  '0.035*\"child\" + 0.033*\"man\" + 0.027*\"cause\" + 0.024*\"human\" + 0.024*\"rule\" + 0.020*\"study\" + 0.019*\"church\" + 0.017*\"person\" + 0.016*\"argument\" + 0.015*\"risk\"')]"
      ]
     },
     "execution_count": 50,
     "metadata": {},
     "output_type": "execute_result"
    }
   ],
   "source": [
    "lda_model.print_topics()"
   ]
  },
  {
   "cell_type": "markdown",
   "metadata": {},
   "source": [
    "**Метрики качества**\n",
    "\n",
    "Возникает разумный вопрос: как же понять хороша ли и насколько построенная модель?\n",
    "\n",
    "Рассмотрим, как же можно измерить качество полученной модели\n",
    "\n",
    "**Перплексия (Perplexity)**\n",
    "\n",
    "Перплексия — известная в вычислительной лингвистике мера качества модели языка. В данном случае моделью языка является условное распределение слов в документах\n",
    "\n",
    "Перплексия коллекции $D$ для языковой модели $p(w|d)$:\n",
    "\n",
    "$$P(D) = \\exp(-\\frac{1}{n}\\sum_{d \\in D}\\sum_{w \\in d} n_{dw}\\ln p(w|d)), n = \\sum_{d \\in D}\\sum_{w \\in d} n_{dw}$$\n",
    "\n",
    "**Замечание:**\n",
    "<br>\n",
    "Если подставить в качестве распределения слов в документах равномерное распределение, $p(w|d) = \\frac{1}{|W|}$, то получится, что $P(D) = |W|$.\n",
    "\n",
    "По сути это мера неопределенности/различности слов в тексте. Перплексия может быть вычислена как по отложенной выборке, так и по всей коллекции. Во втором случае есть риск переобучения, но, как показывают эксперименты, перплексии на отложенной выборке и исходной на больших объема данных практически не отличаются. В связи с этим, рекомендуется вычислять перплексию по всей коллекции, если выборка достаточна большая.\n",
    "\n",
    "**_Чем меньше, тем лучше_**, показывает насколько хорошо построилось матричное разложение\n",
    "\n",
    "**Недостатки**: перплексия не отвечает на вопрос \"на сколько интерпретируемы темы\", а лишь показывает как хорошо построилось матричное разложение.\n",
    "\n",
    "\n",
    "**Когерентность (Согласованность)**\n",
    "\n",
    " Когерентность темы — мера, которая показывает, насколько слова, встречающиеся рядом в текстах, оказываются в топах одних и тех же тем.\n",
    " \n",
    " Когерентность коррелирует как раз с экспертными оценками интерпретируемости темы, тем самым позволяя автоматически отвечать на вопрос \"на сколько тема интерпретируема\"\n",
    " \n",
    " Когерентность темы $t$ — средняя поточечная взаимная информация топ-слов темы (pointwise mutual information, PMI), когерентность темы $t$ по $k$ топовым словам (обычно k $\\leq$ 20):\n",
    " \n",
    "$$PMI_{t} = \\frac{2}{k(k-1)}\\sum_{i=1}^{k-1}\\sum_{k=i}^{k}PMI(w_i, w_j),$$\n",
    "где $w_i$-$i$-й термин в порядке убывания $\\phi_{wt}$ (вероятности термина в теме).\n",
    "\n",
    "Поточечная взаимная информация:\n",
    "$$PMI(u, v) = \\ln \\frac{|D|N_{uv}}{N_uN_v},$$\n",
    "где \n",
    "\n",
    "* $N_{uv}$ - число документов, в которых термины $u$ и $v$ хотя бы один раз встречаются рядом в окне $k$,\n",
    "* $N_u$ - число документов, в которых $N_u$ встретился хотя бы 1 раз. Чем выше величина поточечной взаимной информации, тем выше неслучайность того, что два слова стоят рядом.\n",
    "\n",
    "**_Чем больше, тем лучше_**"
   ]
  },
  {
   "cell_type": "code",
   "execution_count": 51,
   "metadata": {},
   "outputs": [
    {
     "name": "stdout",
     "output_type": "stream",
     "text": [
      "Perplexity:  -13.524249104060475\n",
      "Coherence: 0.4487904804656546\n"
     ]
    }
   ],
   "source": [
    "print('Perplexity: ', lda_model.log_perplexity(corpus))\n",
    "\n",
    "coher_lda_model = CoherenceModel(model=lda_model, texts=data_words, dictionary=id2word, coherence='c_v')\n",
    "print('Coherence:', coher_lda_model.get_coherence())"
   ]
  },
  {
   "cell_type": "code",
   "execution_count": 52,
   "metadata": {},
   "outputs": [
    {
     "name": "stderr",
     "output_type": "stream",
     "text": [
      "/opt/anaconda3/lib/python3.7/site-packages/joblib/numpy_pickle.py:104: DeprecationWarning: tostring() is deprecated. Use tobytes() instead.\n",
      "  pickler.file_handle.write(chunk.tostring('C'))\n",
      "/opt/anaconda3/lib/python3.7/site-packages/joblib/numpy_pickle.py:104: DeprecationWarning: tostring() is deprecated. Use tobytes() instead.\n",
      "  pickler.file_handle.write(chunk.tostring('C'))\n"
     ]
    },
    {
     "name": "stdout",
     "output_type": "stream",
     "text": [
      "CPU times: user 39.3 s, sys: 1.11 s, total: 40.4 s\n",
      "Wall time: 52.7 s\n"
     ]
    }
   ],
   "source": [
    "%%time\n",
    "vis = pyLDAvis.gensim.prepare(lda_model, corpus, id2word)"
   ]
  },
  {
   "cell_type": "code",
   "execution_count": null,
   "metadata": {},
   "outputs": [],
   "source": [
    "pyLDAvis.display(vis)"
   ]
  },
  {
   "cell_type": "markdown",
   "metadata": {},
   "source": [
    "Каждый пузырь на левом графике представляет тему. Чем больше пузырь, тем больше распространена эта тема. Хорошая тематическая модель будет иметь довольно большие непересекающиеся пузыри, разбросанные по всей диаграмме, а не сгруппированные в одном квадранте.\n",
    "\n",
    "Если навести курсор на один из пузырей, справа обновятся полосы графиков. Эти слова являются ключевыми, формирующие выбранную тему."
   ]
  },
  {
   "cell_type": "markdown",
   "metadata": {},
   "source": [
    "Другой подход тематического моделирования - Additive Regularization of Topic Models (ARTM), который заключался в регуляризации PLSA с целью получения лучших моделей. Для этого предполагается ввести дополнительные критерии как регуляризаторы в модель PLSA, за счет чего модель получается более гибкой и ее можно адаптировать к большему числу задач.\n",
    "<br>\n",
    "Инструмент - BigARTM\n",
    "\n",
    "$$\\sum_{d \\in D}\\sum_{w \\in d}n_{dw} \\ln \\sum_{t \\in T} \\phi_{wt} \\theta_{td} + \\sum_{i=1}^{k}\\lambda_{i}R(\\Phi, \\Theta) \\rightarrow \\max_{\\Phi \\Theta}$$\n",
    "\n",
    "$\\lambda_i$ - коэффициенты регуляризации\n",
    "\n",
    "На данный момент, в основном, регуляризаторы добавляются по одному и у каждого регуляризатора оптимизируется этот коэффициент в ходе нескольких пробных запусков модели.\n",
    "\n",
    "| LDA | ARTM |\n",
    "| --- | --- |\n",
    "| Популярный, очень изучен | Тоже весьма популярен и молод|\n",
    "| Множество модификаций для различных задач | Мощный аппарат регуляризаторов для изменения модели|\n",
    "|Для каждой новой задачи надо искать реализацию| Одна реализация для разных задач|\n",
    "|Нужно настраивать гиперпараметры|Нужно настраивать параметры регуляризации|"
   ]
  },
  {
   "cell_type": "markdown",
   "metadata": {},
   "source": [
    "## Полезные источники\n"
   ]
  },
  {
   "cell_type": "markdown",
   "metadata": {},
   "source": [
    "* [Features encoding](https://towardsdatascience.com/all-about-categorical-variable-encoding-305f3361fd02)\n",
    "* [TF-IDF, подходы](http://nlpx.net/archives/57)\n",
    "* [Word2Vec](http://mccormickml.com/2016/04/19/word2vec-tutorial-the-skip-gram-model/)\n",
    "* [Word2Vec matrix](https://iksinc.online/tag/continuous-bag-of-words-cbow/)\n",
    "* [EM-algorithm](https://en.wikipedia.org/wiki/Expectation%E2%80%93maximization_algorithm)\n",
    "* [LDA example](https://www.machinelearningplus.com/nlp/topic-modeling-gensim-python/#12buildingthetopicmodel)\n",
    "* [BigARTM](https://github.com/bigartm/bigartm)\n",
    "* [Тематическое моделирование, Воронцов, методичка](http://www.machinelearning.ru/wiki/images/2/22/Voron-2013-ptm.pdf)\n",
    "* [Тематическое моделирование, Воронцов, курс лекций](http://www.machinelearning.ru/wiki/index.php?title=Вероятностные_тематические_модели_%28курс_лекций%2C_К.В.Воронцов%29)"
   ]
  },
  {
   "cell_type": "code",
   "execution_count": null,
   "metadata": {},
   "outputs": [],
   "source": []
  }
 ],
 "metadata": {
  "kernelspec": {
   "display_name": "Python 3",
   "language": "python",
   "name": "python3"
  },
  "language_info": {
   "codemirror_mode": {
    "name": "ipython",
    "version": 3
   },
   "file_extension": ".py",
   "mimetype": "text/x-python",
   "name": "python",
   "nbconvert_exporter": "python",
   "pygments_lexer": "ipython3",
   "version": "3.7.6"
  }
 },
 "nbformat": 4,
 "nbformat_minor": 4
}
