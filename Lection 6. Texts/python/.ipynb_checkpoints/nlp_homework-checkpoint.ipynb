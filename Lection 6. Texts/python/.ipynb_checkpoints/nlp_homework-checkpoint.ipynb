{
 "cells": [
  {
   "cell_type": "markdown",
   "metadata": {},
   "source": [
    "## Задание"
   ]
  },
  {
   "cell_type": "markdown",
   "metadata": {},
   "source": [
    "Данные имеют следующий вид:\n",
    "\n",
    "    Clothing ID: id одежды\n",
    "    Age: возраст клиента\n",
    "    Title: заголовок отзыва по продукту\n",
    "    Review Text: отзыв по продукту\n",
    "    Rating: рейтинг продукта от 1 (худшее) до 5 (лучшее)\n",
    "    Recommended IND: Бинарная переменная указывающая рекомендует ли клиент данный продукт (1) или нет (0)\n",
    "    Positive Feedback Count: Количество клиентов, нашедших данный продукт хорошим\n",
    "    Division Name, Department Name, Class Name - категории и подкатегории продукта\n",
    "    \n",
    "**_Rating_** - целевая переменная (y), которую требуется предсказывать по имеющимся характеристикам\n",
    "\n",
    "train.csv - датасет для обучения\n",
    "<br>\n",
    "test.csv - датасет для теста, на котором будет производиться вычисление итоговой метрики\n",
    "\n",
    "Тестируемая метрика: **accuracy**\n",
    "\n",
    "В качестве решения задания требуется прислать csv файл\n",
    "<br>\n",
    "Формат файла: Rating (один столбец). Пример см. ниже\n",
    "<br>\n",
    "Название файла: Surname_Name_#group.csv (Ivanov_Ivan_316.csv)"
   ]
  },
  {
   "cell_type": "code",
   "execution_count": 1,
   "metadata": {},
   "outputs": [],
   "source": [
    "import pandas as pd"
   ]
  },
  {
   "cell_type": "code",
   "execution_count": 2,
   "metadata": {},
   "outputs": [
    {
     "data": {
      "text/html": [
       "<div>\n",
       "<style scoped>\n",
       "    .dataframe tbody tr th:only-of-type {\n",
       "        vertical-align: middle;\n",
       "    }\n",
       "\n",
       "    .dataframe tbody tr th {\n",
       "        vertical-align: top;\n",
       "    }\n",
       "\n",
       "    .dataframe thead th {\n",
       "        text-align: right;\n",
       "    }\n",
       "</style>\n",
       "<table border=\"1\" class=\"dataframe\">\n",
       "  <thead>\n",
       "    <tr style=\"text-align: right;\">\n",
       "      <th></th>\n",
       "      <th>Rating</th>\n",
       "    </tr>\n",
       "  </thead>\n",
       "  <tbody>\n",
       "    <tr>\n",
       "      <th>0</th>\n",
       "      <td>5</td>\n",
       "    </tr>\n",
       "    <tr>\n",
       "      <th>1</th>\n",
       "      <td>5</td>\n",
       "    </tr>\n",
       "    <tr>\n",
       "      <th>2</th>\n",
       "      <td>5</td>\n",
       "    </tr>\n",
       "  </tbody>\n",
       "</table>\n",
       "</div>"
      ],
      "text/plain": [
       "   Rating\n",
       "0       5\n",
       "1       5\n",
       "2       5"
      ]
     },
     "execution_count": 2,
     "metadata": {},
     "output_type": "execute_result"
    }
   ],
   "source": [
    "pd.DataFrame({'Rating': [5]*3})"
   ]
  },
  {
   "cell_type": "code",
   "execution_count": null,
   "metadata": {},
   "outputs": [],
   "source": []
  }
 ],
 "metadata": {
  "kernelspec": {
   "display_name": "Python 3",
   "language": "python",
   "name": "python3"
  },
  "language_info": {
   "codemirror_mode": {
    "name": "ipython",
    "version": 3
   },
   "file_extension": ".py",
   "mimetype": "text/x-python",
   "name": "python",
   "nbconvert_exporter": "python",
   "pygments_lexer": "ipython3",
   "version": "3.7.6"
  }
 },
 "nbformat": 4,
 "nbformat_minor": 4
}
